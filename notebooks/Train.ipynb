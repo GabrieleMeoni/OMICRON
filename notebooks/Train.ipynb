{
 "cells": [
  {
   "cell_type": "markdown",
   "id": "beefc598-b578-4420-ae2a-14ba2ea15a9e",
   "metadata": {},
   "source": [
    "# Train example notebook"
   ]
  },
  {
   "cell_type": "markdown",
   "id": "3fe940bf-d307-4329-a62d-5b3810a293b9",
   "metadata": {},
   "source": [
    "This notebook is used to implement the training of a neural network for classification of `Cloud`, `Edge`, `Good` images. <br> It is advisable to use this notebook to get practice and debug your code. To speed up the execution, once you are ready, you should move to a scripted version."
   ]
  },
  {
   "cell_type": "markdown",
   "id": "1c79b286-de2e-4f79-b04f-f5dc77e50c59",
   "metadata": {},
   "source": [
    "## 1. - Imports"
   ]
  },
  {
   "cell_type": "markdown",
   "id": "ac5a0112-75c6-4fd4-887d-0c1fe660c9ac",
   "metadata": {},
   "source": [
    "Select `CUDA_VISIBLE_DEVICES` to the `Graphics Proceesing Unit (GPU)` index that you want to use to enable the use of GPU."
   ]
  },
  {
   "cell_type": "code",
   "execution_count": 1,
   "id": "b7db3603-a5ec-4fd2-ae28-4571762fc480",
   "metadata": {},
   "outputs": [],
   "source": [
    "import os \n",
    "os.environ[\"CUDA_DEVICE_ORDER\"]=\"PCI_BUS_ID\"  \n",
    "os.environ[\"CUDA_VISIBLE_DEVICES\"]=\"0\" # GPU index"
   ]
  },
  {
   "cell_type": "markdown",
   "id": "62227b7f-8c1a-479f-ae34-84611d656702",
   "metadata": {},
   "source": [
    "Enabling autoreload of different packages."
   ]
  },
  {
   "cell_type": "code",
   "execution_count": 2,
   "id": "a09a54f6-3fc4-463a-a93f-72cdd4ea75d3",
   "metadata": {},
   "outputs": [],
   "source": [
    "%load_ext autoreload\n",
    "%autoreload 2"
   ]
  },
  {
   "cell_type": "code",
   "execution_count": 3,
   "id": "26166ece-1cb3-4231-b2c6-3df9b39488c2",
   "metadata": {},
   "outputs": [],
   "source": [
    "import torch \n",
    "import sys\n",
    "sys.path.insert(1, os.path.join(\"..\", \"data\"))\n",
    "sys.path.insert(1, os.path.join(\"..\", \"utils\"))\n",
    "from torchvision import datasets, transforms\n",
    "from plot_utils import plot_image\n",
    "from torch.utils.data import DataLoader\n",
    "from torch.utils.data import random_split"
   ]
  },
  {
   "cell_type": "markdown",
   "id": "0e285782-59e0-4816-bcf8-bf66981200a2",
   "metadata": {},
   "source": [
    "## 2. - Datasets"
   ]
  },
  {
   "cell_type": "markdown",
   "id": "9ef7a7a3-d603-4050-9fb4-f1a20c09a072",
   "metadata": {},
   "source": [
    "### 2.1 - Creating datasets"
   ]
  },
  {
   "cell_type": "markdown",
   "id": "462d110f-1b25-4445-bd84-1a29f9261e7e",
   "metadata": {},
   "source": [
    "Now we read the images from the target directory `path_data`. Set `path_data` to the directory containing the `Cloud`, `Edge`, `Good` subfolders.  Moreover, it will automatically split the total dataset into the train, cross validation and test splits by using a pseudo-random splitting algorithm. You can reproduce the split by specifying the variable `seed`. **NB**:\n",
    "- The train split contains 70% of the whole images.\n",
    "- The valid splits contains 15% of the whole images.\n",
    "- The test splits contains 15% of the whole images.<br>**YOU MUST NOT CHANGE THE TEST SPLIT SIZE!!!**"
   ]
  },
  {
   "cell_type": "code",
   "execution_count": 4,
   "id": "84b8b832-ce8e-4512-9bdb-6c73d715feb1",
   "metadata": {},
   "outputs": [],
   "source": [
    "# Path to the data folder (update the variable to your path).\n",
    "path_data=os.path.join(\"..\", \"data\")\n",
    "# Seed value\n",
    "seed=22\n",
    "torch.manual_seed(seed)\n",
    "\n",
    "from torch.utils.data import DataLoader\n",
    "from torch.utils.data import random_split\n",
    "from torchvision.transforms import v2\n",
    "\n",
    "import numpy as np\n",
    "\n",
    "image_width = 1024\n",
    "image_height = 1942\n",
    "scale_factor = 0.1\n",
    "\n",
    "valid_size = 0.15\n",
    "test_size = 0.15\n",
    "\n",
    "dataset_mean = [0.2391, 0.4028, 0.4096]\n",
    "dataset_std = [0.2312, 0.3223, 0.3203]\n",
    "\n",
    "transform = transforms.Compose([v2.ToImage(),\n",
    "                                v2.Resize((int(256), int(256))),\n",
    "                                v2.RandomHorizontalFlip(p=0.5),\n",
    "                                v2.RandomVerticalFlip(p=0.5),\n",
    "                                v2.ToDtype(torch.float32, scale=True),\n",
    "                                v2.Grayscale(num_output_channels=1),\n",
    "                                v2.Normalize((dataset_mean),(dataset_std))\n",
    "                                ])\n",
    "\n",
    "dataset = datasets.ImageFolder(root=path_data, \n",
    "                                 transform=transform)\n",
    "\n",
    "n_val = int(np.floor(valid_size * len(dataset)))\n",
    "n_test = int(np.floor(test_size * len(dataset)))\n",
    "n_train = len(dataset) - n_val - n_test\n",
    "\n",
    "train_ds, val_ds, test_ds = random_split(dataset, [n_train, n_val, n_test])"
   ]
  },
  {
   "cell_type": "markdown",
   "id": "74c19bcb-6b39-4258-9d5b-157dab7bc253",
   "metadata": {},
   "source": [
    "**Hint:** before proceeding, make sure that your `Edge`,`Cloud`, and `Good` samples are well enough among the `train`, `valid`,`test` splits. To print datasets statistics, run the next line.  Remember that the number of images in the different splits is distributed as described above. <br> If you are not happy with the data distribution, you can update the seed used and create a new dataset by rerunning the cell above. "
   ]
  },
  {
   "cell_type": "markdown",
   "id": "200c1e33-6c9d-4020-bb4b-9a95cd7e77fa",
   "metadata": {},
   "source": [
    "### 2.2. - Create data loaders."
   ]
  },
  {
   "cell_type": "markdown",
   "id": "f5d5c989-13e1-48b6-bb99-b09027a94675",
   "metadata": {},
   "source": [
    "The next lines will create a dataloader. A data loader is used to break the dataset into batches of a size `batch_size`. <br> This is useful to ensure that your dataset will fit into your memory and to create a \"stochastic\" implementation of gradient descent. <br> For more information, please, check: [data loader](https://www.educative.io/answers/what-is-pytorch-dataloader).<br>\n",
    "Specify `batch_size` (**Hint**: use powers of 2. Typical values are between 8 and 64)."
   ]
  },
  {
   "cell_type": "code",
   "execution_count": 5,
   "id": "5e0f8a6d-d620-424d-abae-48789e9c64f0",
   "metadata": {},
   "outputs": [
    {
     "name": "stdout",
     "output_type": "stream",
     "text": [
      "Train split:  {0: 61, 1: 73, 2: 80}\n",
      "Test split:  {0: 13, 1: 12, 2: 20}\n",
      "Validation split:  {0: 16, 1: 12, 2: 17}\n"
     ]
    }
   ],
   "source": [
    "batch_size=32\n",
    "# Train loader\n",
    "train_loader = DataLoader(train_ds, batch_size=batch_size, pin_memory=False, shuffle=True)\n",
    "# Cross validation data loader\n",
    "valid_loader = DataLoader(val_ds, batch_size=batch_size, pin_memory=False, shuffle=True)\n",
    "# Test data loader\n",
    "test_loader = DataLoader(test_ds, batch_size=batch_size, pin_memory=False, shuffle=True)\n",
    "\n",
    "#0 - cloud\n",
    "#1 - edge\n",
    "#2 - good\n",
    "\n",
    "unique, counts = np.unique(torch.tensor([train_ds.dataset.targets[i] for i in train_ds.indices]), return_counts=True)\n",
    "print(\"Train split: \", dict(zip(unique, counts)))\n",
    "\n",
    "unique, counts = np.unique(torch.tensor([test_ds.dataset.targets[i] for i in test_ds.indices]), return_counts=True)\n",
    "print(\"Test split: \", dict(zip(unique, counts)))\n",
    "\n",
    "unique, counts = np.unique(torch.tensor([val_ds.dataset.targets[i] for i in val_ds.indices]), return_counts=True)\n",
    "print(\"Validation split: \", dict(zip(unique, counts)))"
   ]
  },
  {
   "cell_type": "markdown",
   "id": "cdec454c-0b6d-411c-bc63-7223de91dabd",
   "metadata": {},
   "source": [
    "## 3 - Training"
   ]
  },
  {
   "cell_type": "markdown",
   "id": "772b7c14-2bf3-47c7-a2ff-ab80c5aa2c0a",
   "metadata": {},
   "source": [
    "Now, it is your turn! Add your code below to load a Neural Network model, select optimizers, learning rate and perform training. <br>\n",
    "Good luck!"
   ]
  },
  {
   "cell_type": "markdown",
   "id": "6b63443f-23d3-4bb8-aab0-d563092b928d",
   "metadata": {},
   "source": [
    "..."
   ]
  },
  {
   "cell_type": "code",
   "execution_count": 6,
   "id": "e97c1aba-ab0e-4d27-b704-6b72c3cca542",
   "metadata": {},
   "outputs": [
    {
     "name": "stderr",
     "output_type": "stream",
     "text": [
      "Using cache found in C:\\Users\\20181212/.cache\\torch\\hub\\pytorch_vision_v0.10.0\n",
      "C:\\Users\\20181212\\AppData\\Local\\anaconda3\\envs\\OMICRON\\Lib\\site-packages\\torchvision\\models\\_utils.py:208: UserWarning: The parameter 'pretrained' is deprecated since 0.13 and may be removed in the future, please use 'weights' instead.\n",
      "  warnings.warn(\n",
      "C:\\Users\\20181212\\AppData\\Local\\anaconda3\\envs\\OMICRON\\Lib\\site-packages\\torchvision\\models\\_utils.py:223: UserWarning: Arguments other than a weight enum or `None` for 'weights' are deprecated since 0.13 and may be removed in the future. The current behavior is equivalent to passing `weights=ResNet18_Weights.IMAGENET1K_V1`. You can also use `weights=ResNet18_Weights.DEFAULT` to get the most up-to-date weights.\n",
      "  warnings.warn(msg)\n"
     ]
    },
    {
     "name": "stdout",
     "output_type": "stream",
     "text": [
      "using GPU to train model\n"
     ]
    },
    {
     "name": "stderr",
     "output_type": "stream",
     "text": [
      "C:\\Users\\20181212\\AppData\\Local\\anaconda3\\envs\\OMICRON\\Lib\\site-packages\\torchvision\\transforms\\functional.py:1603: UserWarning: The default value of the antialias parameter of all the resizing transforms (Resize(), RandomResizedCrop(), etc.) will change from None to True in v0.17, in order to be consistent across the PIL and Tensor backends. To suppress this warning, directly pass antialias=True (recommended, future default), antialias=None (current default, which means False for Tensors and True for PIL), or antialias=False (only works on Tensors - PIL will still use antialiasing). This also applies if you are using the inference transforms from the models weights: update the call to weights.transforms(antialias=True).\n",
      "  warnings.warn(\n"
     ]
    },
    {
     "name": "stdout",
     "output_type": "stream",
     "text": [
      "Epoch: 1, Training Loss: 8.68, Validation Loss: 8.62, accuracy = 0.00\n",
      "Epoch: 2, Training Loss: 8.50, Validation Loss: 8.16, accuracy = 0.02\n",
      "Epoch: 3, Training Loss: 8.17, Validation Loss: 7.89, accuracy = 0.02\n",
      "Epoch: 4, Training Loss: 7.74, Validation Loss: 8.14, accuracy = 0.02\n",
      "Epoch: 5, Training Loss: 7.59, Validation Loss: 7.69, accuracy = 0.00\n",
      "Epoch: 6, Training Loss: 7.29, Validation Loss: 7.71, accuracy = 0.04\n",
      "Epoch: 7, Training Loss: 7.07, Validation Loss: 7.26, accuracy = 0.07\n",
      "Epoch: 8, Training Loss: 6.98, Validation Loss: 6.94, accuracy = 0.07\n",
      "Epoch: 9, Training Loss: 6.51, Validation Loss: 7.17, accuracy = 0.04\n",
      "Epoch: 10, Training Loss: 6.45, Validation Loss: 6.68, accuracy = 0.11\n",
      "Epoch: 11, Training Loss: 6.26, Validation Loss: 6.49, accuracy = 0.09\n",
      "Epoch: 12, Training Loss: 6.10, Validation Loss: 6.48, accuracy = 0.09\n",
      "Epoch: 13, Training Loss: 5.90, Validation Loss: 6.13, accuracy = 0.13\n",
      "Epoch: 14, Training Loss: 5.71, Validation Loss: 6.09, accuracy = 0.09\n",
      "Epoch: 15, Training Loss: 5.56, Validation Loss: 5.80, accuracy = 0.11\n",
      "Epoch: 16, Training Loss: 5.55, Validation Loss: 5.25, accuracy = 0.18\n",
      "Epoch: 17, Training Loss: 5.22, Validation Loss: 5.11, accuracy = 0.18\n",
      "Epoch: 18, Training Loss: 4.97, Validation Loss: 5.39, accuracy = 0.16\n",
      "Epoch: 19, Training Loss: 5.05, Validation Loss: 5.00, accuracy = 0.22\n",
      "Epoch: 20, Training Loss: 4.85, Validation Loss: 5.13, accuracy = 0.13\n",
      "Epoch: 21, Training Loss: 4.55, Validation Loss: 5.16, accuracy = 0.13\n",
      "Epoch: 22, Training Loss: 4.59, Validation Loss: 4.61, accuracy = 0.24\n",
      "Epoch: 23, Training Loss: 4.29, Validation Loss: 4.80, accuracy = 0.20\n",
      "Epoch: 24, Training Loss: 4.29, Validation Loss: 4.81, accuracy = 0.20\n",
      "Epoch: 25, Training Loss: 4.00, Validation Loss: 4.10, accuracy = 0.27\n",
      "Epoch: 26, Training Loss: 3.92, Validation Loss: 4.42, accuracy = 0.29\n",
      "Epoch: 27, Training Loss: 3.84, Validation Loss: 4.00, accuracy = 0.31\n",
      "Epoch: 28, Training Loss: 3.88, Validation Loss: 3.70, accuracy = 0.36\n",
      "Epoch: 29, Training Loss: 3.55, Validation Loss: 3.67, accuracy = 0.29\n",
      "Epoch: 30, Training Loss: 3.53, Validation Loss: 3.76, accuracy = 0.33\n",
      "Epoch: 31, Training Loss: 3.34, Validation Loss: 3.61, accuracy = 0.33\n",
      "Epoch: 32, Training Loss: 3.22, Validation Loss: 3.38, accuracy = 0.33\n",
      "Epoch: 33, Training Loss: 3.08, Validation Loss: 3.34, accuracy = 0.36\n",
      "Epoch: 34, Training Loss: 2.99, Validation Loss: 3.05, accuracy = 0.49\n",
      "Epoch: 35, Training Loss: 2.84, Validation Loss: 2.97, accuracy = 0.44\n",
      "Epoch: 36, Training Loss: 2.69, Validation Loss: 3.06, accuracy = 0.38\n",
      "Epoch: 37, Training Loss: 2.73, Validation Loss: 2.79, accuracy = 0.44\n",
      "Epoch: 38, Training Loss: 2.64, Validation Loss: 2.83, accuracy = 0.38\n",
      "Epoch: 39, Training Loss: 2.31, Validation Loss: 2.96, accuracy = 0.49\n",
      "Epoch: 40, Training Loss: 2.52, Validation Loss: 2.76, accuracy = 0.47\n",
      "Epoch: 41, Training Loss: 2.47, Validation Loss: 2.58, accuracy = 0.49\n",
      "Epoch: 42, Training Loss: 2.26, Validation Loss: 2.52, accuracy = 0.58\n",
      "Epoch: 43, Training Loss: 2.31, Validation Loss: 2.28, accuracy = 0.56\n",
      "Epoch: 44, Training Loss: 2.10, Validation Loss: 2.40, accuracy = 0.51\n",
      "Epoch: 45, Training Loss: 2.02, Validation Loss: 2.29, accuracy = 0.64\n",
      "Epoch: 46, Training Loss: 2.04, Validation Loss: 2.41, accuracy = 0.51\n",
      "Epoch: 47, Training Loss: 2.16, Validation Loss: 2.27, accuracy = 0.56\n",
      "Epoch: 48, Training Loss: 2.09, Validation Loss: 2.10, accuracy = 0.67\n",
      "Epoch: 49, Training Loss: 1.74, Validation Loss: 2.24, accuracy = 0.56\n",
      "Epoch: 50, Training Loss: 1.80, Validation Loss: 2.20, accuracy = 0.64\n",
      "Epoch: 51, Training Loss: 1.81, Validation Loss: 2.01, accuracy = 0.62\n",
      "Epoch: 52, Training Loss: 1.61, Validation Loss: 2.24, accuracy = 0.60\n",
      "Epoch: 53, Training Loss: 1.66, Validation Loss: 1.99, accuracy = 0.60\n",
      "Epoch: 54, Training Loss: 1.69, Validation Loss: 2.12, accuracy = 0.56\n",
      "Epoch: 55, Training Loss: 1.52, Validation Loss: 2.02, accuracy = 0.67\n",
      "Epoch: 56, Training Loss: 1.51, Validation Loss: 1.83, accuracy = 0.64\n",
      "Epoch: 57, Training Loss: 1.62, Validation Loss: 1.83, accuracy = 0.69\n",
      "Epoch: 58, Training Loss: 1.53, Validation Loss: 1.74, accuracy = 0.62\n",
      "Epoch: 59, Training Loss: 1.45, Validation Loss: 1.83, accuracy = 0.67\n",
      "Epoch: 60, Training Loss: 1.37, Validation Loss: 1.78, accuracy = 0.69\n",
      "Epoch: 61, Training Loss: 1.31, Validation Loss: 1.60, accuracy = 0.71\n",
      "Epoch: 62, Training Loss: 1.24, Validation Loss: 1.53, accuracy = 0.73\n",
      "Epoch: 63, Training Loss: 1.38, Validation Loss: 1.71, accuracy = 0.62\n",
      "Epoch: 64, Training Loss: 1.21, Validation Loss: 1.46, accuracy = 0.73\n",
      "Epoch: 65, Training Loss: 1.28, Validation Loss: 1.48, accuracy = 0.73\n",
      "Epoch: 66, Training Loss: 1.21, Validation Loss: 1.74, accuracy = 0.64\n",
      "Epoch: 67, Training Loss: 1.26, Validation Loss: 1.44, accuracy = 0.71\n",
      "Epoch: 68, Training Loss: 1.04, Validation Loss: 1.40, accuracy = 0.73\n",
      "Epoch: 69, Training Loss: 1.14, Validation Loss: 1.42, accuracy = 0.73\n",
      "Epoch: 70, Training Loss: 1.02, Validation Loss: 1.59, accuracy = 0.64\n",
      "Epoch: 71, Training Loss: 1.16, Validation Loss: 1.44, accuracy = 0.71\n",
      "Epoch: 72, Training Loss: 0.96, Validation Loss: 1.41, accuracy = 0.62\n",
      "Epoch: 73, Training Loss: 1.03, Validation Loss: 1.47, accuracy = 0.71\n",
      "Epoch: 74, Training Loss: 1.10, Validation Loss: 1.31, accuracy = 0.73\n",
      "Epoch: 75, Training Loss: 1.04, Validation Loss: 1.20, accuracy = 0.82\n",
      "Epoch: 76, Training Loss: 1.00, Validation Loss: 1.25, accuracy = 0.69\n",
      "Epoch: 77, Training Loss: 0.94, Validation Loss: 1.31, accuracy = 0.76\n",
      "Epoch: 78, Training Loss: 1.07, Validation Loss: 1.32, accuracy = 0.73\n",
      "Epoch: 79, Training Loss: 0.84, Validation Loss: 1.29, accuracy = 0.76\n",
      "Epoch: 80, Training Loss: 0.99, Validation Loss: 1.33, accuracy = 0.71\n",
      "Epoch: 81, Training Loss: 0.92, Validation Loss: 1.25, accuracy = 0.73\n",
      "Epoch: 82, Training Loss: 0.98, Validation Loss: 1.11, accuracy = 0.78\n",
      "Epoch: 83, Training Loss: 0.77, Validation Loss: 1.00, accuracy = 0.76\n",
      "Epoch: 84, Training Loss: 0.77, Validation Loss: 1.12, accuracy = 0.71\n",
      "Epoch: 85, Training Loss: 0.84, Validation Loss: 1.14, accuracy = 0.73\n",
      "Epoch: 86, Training Loss: 0.84, Validation Loss: 1.11, accuracy = 0.76\n",
      "Epoch: 87, Training Loss: 0.79, Validation Loss: 1.29, accuracy = 0.69\n",
      "Epoch: 88, Training Loss: 0.74, Validation Loss: 1.11, accuracy = 0.76\n",
      "Epoch: 89, Training Loss: 0.79, Validation Loss: 1.04, accuracy = 0.71\n",
      "Epoch: 90, Training Loss: 0.79, Validation Loss: 1.08, accuracy = 0.76\n",
      "Epoch: 91, Training Loss: 0.92, Validation Loss: 1.08, accuracy = 0.78\n",
      "Epoch: 92, Training Loss: 0.78, Validation Loss: 1.13, accuracy = 0.76\n",
      "Epoch: 93, Training Loss: 0.70, Validation Loss: 1.02, accuracy = 0.82\n",
      "Epoch: 94, Training Loss: 0.79, Validation Loss: 1.06, accuracy = 0.71\n",
      "Epoch: 95, Training Loss: 0.69, Validation Loss: 1.09, accuracy = 0.69\n",
      "Epoch: 96, Training Loss: 0.73, Validation Loss: 0.98, accuracy = 0.76\n",
      "Epoch: 97, Training Loss: 0.70, Validation Loss: 1.03, accuracy = 0.76\n",
      "Epoch: 98, Training Loss: 0.67, Validation Loss: 1.09, accuracy = 0.67\n",
      "Epoch: 99, Training Loss: 0.74, Validation Loss: 1.06, accuracy = 0.80\n",
      "Epoch: 100, Training Loss: 0.63, Validation Loss: 1.06, accuracy = 0.76\n",
      "Epoch: 101, Training Loss: 0.60, Validation Loss: 0.88, accuracy = 0.80\n",
      "Epoch: 102, Training Loss: 0.65, Validation Loss: 1.05, accuracy = 0.78\n",
      "Epoch: 103, Training Loss: 0.57, Validation Loss: 0.95, accuracy = 0.69\n",
      "Epoch: 104, Training Loss: 0.63, Validation Loss: 0.99, accuracy = 0.71\n",
      "Epoch: 105, Training Loss: 0.60, Validation Loss: 0.95, accuracy = 0.80\n",
      "Epoch: 106, Training Loss: 0.62, Validation Loss: 0.91, accuracy = 0.76\n",
      "Epoch: 107, Training Loss: 0.60, Validation Loss: 1.06, accuracy = 0.73\n",
      "Epoch: 108, Training Loss: 0.59, Validation Loss: 1.07, accuracy = 0.76\n",
      "Epoch: 109, Training Loss: 0.64, Validation Loss: 0.87, accuracy = 0.80\n",
      "Epoch: 110, Training Loss: 0.66, Validation Loss: 0.90, accuracy = 0.76\n",
      "Epoch: 111, Training Loss: 0.72, Validation Loss: 1.04, accuracy = 0.76\n",
      "Epoch: 112, Training Loss: 0.48, Validation Loss: 0.86, accuracy = 0.73\n",
      "Epoch: 113, Training Loss: 0.59, Validation Loss: 0.78, accuracy = 0.82\n",
      "Epoch: 114, Training Loss: 0.53, Validation Loss: 0.86, accuracy = 0.78\n",
      "Epoch: 115, Training Loss: 0.54, Validation Loss: 0.87, accuracy = 0.76\n",
      "Epoch: 116, Training Loss: 0.62, Validation Loss: 0.81, accuracy = 0.78\n",
      "Epoch: 117, Training Loss: 0.46, Validation Loss: 0.89, accuracy = 0.82\n",
      "Epoch: 118, Training Loss: 0.62, Validation Loss: 0.85, accuracy = 0.82\n",
      "Epoch: 119, Training Loss: 0.54, Validation Loss: 0.81, accuracy = 0.78\n",
      "Epoch: 120, Training Loss: 0.50, Validation Loss: 0.75, accuracy = 0.80\n",
      "Epoch: 121, Training Loss: 0.52, Validation Loss: 0.82, accuracy = 0.82\n",
      "Epoch: 122, Training Loss: 0.51, Validation Loss: 0.84, accuracy = 0.78\n",
      "Epoch: 123, Training Loss: 0.44, Validation Loss: 0.89, accuracy = 0.76\n",
      "Epoch: 124, Training Loss: 0.53, Validation Loss: 0.65, accuracy = 0.82\n",
      "Epoch: 125, Training Loss: 0.50, Validation Loss: 0.77, accuracy = 0.80\n",
      "Epoch: 126, Training Loss: 0.46, Validation Loss: 0.90, accuracy = 0.78\n",
      "Epoch: 127, Training Loss: 0.59, Validation Loss: 0.86, accuracy = 0.80\n",
      "Epoch: 128, Training Loss: 0.38, Validation Loss: 0.75, accuracy = 0.80\n",
      "Epoch: 129, Training Loss: 0.46, Validation Loss: 0.82, accuracy = 0.80\n",
      "Epoch: 130, Training Loss: 0.44, Validation Loss: 0.78, accuracy = 0.76\n",
      "Epoch: 131, Training Loss: 0.50, Validation Loss: 0.80, accuracy = 0.80\n",
      "Epoch: 132, Training Loss: 0.43, Validation Loss: 0.72, accuracy = 0.82\n",
      "Epoch: 133, Training Loss: 0.44, Validation Loss: 0.72, accuracy = 0.82\n",
      "Epoch: 134, Training Loss: 0.46, Validation Loss: 0.70, accuracy = 0.78\n",
      "Epoch: 135, Training Loss: 0.43, Validation Loss: 0.72, accuracy = 0.78\n",
      "Epoch: 136, Training Loss: 0.42, Validation Loss: 0.75, accuracy = 0.82\n",
      "Epoch: 137, Training Loss: 0.37, Validation Loss: 0.67, accuracy = 0.78\n",
      "Epoch: 138, Training Loss: 0.42, Validation Loss: 0.80, accuracy = 0.76\n",
      "Epoch: 139, Training Loss: 0.46, Validation Loss: 0.82, accuracy = 0.80\n",
      "Epoch: 140, Training Loss: 0.47, Validation Loss: 0.88, accuracy = 0.80\n",
      "Epoch: 141, Training Loss: 0.48, Validation Loss: 0.79, accuracy = 0.84\n",
      "Epoch: 142, Training Loss: 0.40, Validation Loss: 0.72, accuracy = 0.84\n",
      "Epoch: 143, Training Loss: 0.35, Validation Loss: 0.68, accuracy = 0.84\n",
      "Epoch: 144, Training Loss: 0.41, Validation Loss: 0.79, accuracy = 0.78\n",
      "Epoch: 145, Training Loss: 0.39, Validation Loss: 0.90, accuracy = 0.76\n",
      "Epoch: 146, Training Loss: 0.40, Validation Loss: 0.67, accuracy = 0.84\n",
      "Epoch: 147, Training Loss: 0.39, Validation Loss: 0.75, accuracy = 0.80\n",
      "Epoch: 148, Training Loss: 0.41, Validation Loss: 0.66, accuracy = 0.80\n",
      "Epoch: 149, Training Loss: 0.35, Validation Loss: 0.69, accuracy = 0.87\n",
      "Epoch: 150, Training Loss: 0.38, Validation Loss: 0.65, accuracy = 0.80\n",
      "Epoch: 151, Training Loss: 0.36, Validation Loss: 0.72, accuracy = 0.78\n",
      "Epoch: 152, Training Loss: 0.31, Validation Loss: 0.74, accuracy = 0.82\n",
      "Epoch: 153, Training Loss: 0.37, Validation Loss: 0.61, accuracy = 0.87\n",
      "Epoch: 154, Training Loss: 0.38, Validation Loss: 0.72, accuracy = 0.82\n",
      "Epoch: 155, Training Loss: 0.47, Validation Loss: 0.78, accuracy = 0.78\n",
      "Epoch: 156, Training Loss: 0.33, Validation Loss: 0.69, accuracy = 0.78\n",
      "Epoch: 157, Training Loss: 0.41, Validation Loss: 0.80, accuracy = 0.76\n",
      "Epoch: 158, Training Loss: 0.42, Validation Loss: 0.84, accuracy = 0.80\n",
      "Epoch: 159, Training Loss: 0.36, Validation Loss: 0.69, accuracy = 0.78\n"
     ]
    },
    {
     "ename": "KeyboardInterrupt",
     "evalue": "",
     "output_type": "error",
     "traceback": [
      "\u001b[1;31m---------------------------------------------------------------------------\u001b[0m",
      "\u001b[1;31mKeyboardInterrupt\u001b[0m                         Traceback (most recent call last)",
      "Cell \u001b[1;32mIn[6], line 129\u001b[0m\n\u001b[0;32m    124\u001b[0m     \u001b[38;5;28mprint\u001b[39m(\u001b[38;5;124m\"\u001b[39m\u001b[38;5;124musing CPU to train model\u001b[39m\u001b[38;5;124m\"\u001b[39m)\n\u001b[0;32m    127\u001b[0m model\u001b[38;5;241m.\u001b[39mto(device)\n\u001b[1;32m--> 129\u001b[0m \u001b[43mtrain\u001b[49m\u001b[43m(\u001b[49m\u001b[43mmodel\u001b[49m\u001b[43m,\u001b[49m\u001b[43m \u001b[49m\u001b[43moptimizer\u001b[49m\u001b[43m,\u001b[49m\u001b[43m \u001b[49m\u001b[43mtorch\u001b[49m\u001b[38;5;241;43m.\u001b[39;49m\u001b[43mnn\u001b[49m\u001b[38;5;241;43m.\u001b[39;49m\u001b[43mCrossEntropyLoss\u001b[49m\u001b[43m(\u001b[49m\u001b[43m)\u001b[49m\u001b[43m,\u001b[49m\u001b[43mtrain_loader\u001b[49m\u001b[43m,\u001b[49m\u001b[43m \u001b[49m\u001b[43mvalid_loader\u001b[49m\u001b[43m,\u001b[49m\u001b[43m \u001b[49m\u001b[43mepochs\u001b[49m\u001b[38;5;241;43m=\u001b[39;49m\u001b[38;5;241;43m500\u001b[39;49m\u001b[43m,\u001b[49m\u001b[43m \u001b[49m\u001b[43mdevice\u001b[49m\u001b[38;5;241;43m=\u001b[39;49m\u001b[43mdevice\u001b[49m\u001b[43m)\u001b[49m\n",
      "Cell \u001b[1;32mIn[6], line 54\u001b[0m, in \u001b[0;36mtrain\u001b[1;34m(model, optimizer, loss_fn, train_loader, val_loader, epochs, device)\u001b[0m\n\u001b[0;32m     51\u001b[0m valid_loss \u001b[38;5;241m=\u001b[39m \u001b[38;5;241m0.0\u001b[39m\n\u001b[0;32m     52\u001b[0m model\u001b[38;5;241m.\u001b[39mtrain()\n\u001b[1;32m---> 54\u001b[0m \u001b[43m\u001b[49m\u001b[38;5;28;43;01mfor\u001b[39;49;00m\u001b[43m \u001b[49m\u001b[43mbatch\u001b[49m\u001b[43m \u001b[49m\u001b[38;5;129;43;01min\u001b[39;49;00m\u001b[43m \u001b[49m\u001b[43mtrain_loader\u001b[49m\u001b[43m:\u001b[49m\n\u001b[0;32m     55\u001b[0m \u001b[43m    \u001b[49m\u001b[43moptimizer\u001b[49m\u001b[38;5;241;43m.\u001b[39;49m\u001b[43mzero_grad\u001b[49m\u001b[43m(\u001b[49m\u001b[43m)\u001b[49m\n\u001b[0;32m     56\u001b[0m \u001b[43m    \u001b[49m\u001b[43minputs\u001b[49m\u001b[43m,\u001b[49m\u001b[43m \u001b[49m\u001b[43mtargets\u001b[49m\u001b[43m \u001b[49m\u001b[38;5;241;43m=\u001b[39;49m\u001b[43m \u001b[49m\u001b[43mbatch\u001b[49m\n",
      "File \u001b[1;32m~\\AppData\\Local\\anaconda3\\envs\\OMICRON\\Lib\\site-packages\\torch\\utils\\data\\dataloader.py:630\u001b[0m, in \u001b[0;36m_BaseDataLoaderIter.__next__\u001b[1;34m(self)\u001b[0m\n\u001b[0;32m    627\u001b[0m \u001b[38;5;28;01mif\u001b[39;00m \u001b[38;5;28mself\u001b[39m\u001b[38;5;241m.\u001b[39m_sampler_iter \u001b[38;5;129;01mis\u001b[39;00m \u001b[38;5;28;01mNone\u001b[39;00m:\n\u001b[0;32m    628\u001b[0m     \u001b[38;5;66;03m# TODO(https://github.com/pytorch/pytorch/issues/76750)\u001b[39;00m\n\u001b[0;32m    629\u001b[0m     \u001b[38;5;28mself\u001b[39m\u001b[38;5;241m.\u001b[39m_reset()  \u001b[38;5;66;03m# type: ignore[call-arg]\u001b[39;00m\n\u001b[1;32m--> 630\u001b[0m data \u001b[38;5;241m=\u001b[39m \u001b[38;5;28;43mself\u001b[39;49m\u001b[38;5;241;43m.\u001b[39;49m\u001b[43m_next_data\u001b[49m\u001b[43m(\u001b[49m\u001b[43m)\u001b[49m\n\u001b[0;32m    631\u001b[0m \u001b[38;5;28mself\u001b[39m\u001b[38;5;241m.\u001b[39m_num_yielded \u001b[38;5;241m+\u001b[39m\u001b[38;5;241m=\u001b[39m \u001b[38;5;241m1\u001b[39m\n\u001b[0;32m    632\u001b[0m \u001b[38;5;28;01mif\u001b[39;00m \u001b[38;5;28mself\u001b[39m\u001b[38;5;241m.\u001b[39m_dataset_kind \u001b[38;5;241m==\u001b[39m _DatasetKind\u001b[38;5;241m.\u001b[39mIterable \u001b[38;5;129;01mand\u001b[39;00m \\\n\u001b[0;32m    633\u001b[0m         \u001b[38;5;28mself\u001b[39m\u001b[38;5;241m.\u001b[39m_IterableDataset_len_called \u001b[38;5;129;01mis\u001b[39;00m \u001b[38;5;129;01mnot\u001b[39;00m \u001b[38;5;28;01mNone\u001b[39;00m \u001b[38;5;129;01mand\u001b[39;00m \\\n\u001b[0;32m    634\u001b[0m         \u001b[38;5;28mself\u001b[39m\u001b[38;5;241m.\u001b[39m_num_yielded \u001b[38;5;241m>\u001b[39m \u001b[38;5;28mself\u001b[39m\u001b[38;5;241m.\u001b[39m_IterableDataset_len_called:\n",
      "File \u001b[1;32m~\\AppData\\Local\\anaconda3\\envs\\OMICRON\\Lib\\site-packages\\torch\\utils\\data\\dataloader.py:674\u001b[0m, in \u001b[0;36m_SingleProcessDataLoaderIter._next_data\u001b[1;34m(self)\u001b[0m\n\u001b[0;32m    672\u001b[0m \u001b[38;5;28;01mdef\u001b[39;00m \u001b[38;5;21m_next_data\u001b[39m(\u001b[38;5;28mself\u001b[39m):\n\u001b[0;32m    673\u001b[0m     index \u001b[38;5;241m=\u001b[39m \u001b[38;5;28mself\u001b[39m\u001b[38;5;241m.\u001b[39m_next_index()  \u001b[38;5;66;03m# may raise StopIteration\u001b[39;00m\n\u001b[1;32m--> 674\u001b[0m     data \u001b[38;5;241m=\u001b[39m \u001b[38;5;28;43mself\u001b[39;49m\u001b[38;5;241;43m.\u001b[39;49m\u001b[43m_dataset_fetcher\u001b[49m\u001b[38;5;241;43m.\u001b[39;49m\u001b[43mfetch\u001b[49m\u001b[43m(\u001b[49m\u001b[43mindex\u001b[49m\u001b[43m)\u001b[49m  \u001b[38;5;66;03m# may raise StopIteration\u001b[39;00m\n\u001b[0;32m    675\u001b[0m     \u001b[38;5;28;01mif\u001b[39;00m \u001b[38;5;28mself\u001b[39m\u001b[38;5;241m.\u001b[39m_pin_memory:\n\u001b[0;32m    676\u001b[0m         data \u001b[38;5;241m=\u001b[39m _utils\u001b[38;5;241m.\u001b[39mpin_memory\u001b[38;5;241m.\u001b[39mpin_memory(data, \u001b[38;5;28mself\u001b[39m\u001b[38;5;241m.\u001b[39m_pin_memory_device)\n",
      "File \u001b[1;32m~\\AppData\\Local\\anaconda3\\envs\\OMICRON\\Lib\\site-packages\\torch\\utils\\data\\_utils\\fetch.py:49\u001b[0m, in \u001b[0;36m_MapDatasetFetcher.fetch\u001b[1;34m(self, possibly_batched_index)\u001b[0m\n\u001b[0;32m     47\u001b[0m \u001b[38;5;28;01mif\u001b[39;00m \u001b[38;5;28mself\u001b[39m\u001b[38;5;241m.\u001b[39mauto_collation:\n\u001b[0;32m     48\u001b[0m     \u001b[38;5;28;01mif\u001b[39;00m \u001b[38;5;28mhasattr\u001b[39m(\u001b[38;5;28mself\u001b[39m\u001b[38;5;241m.\u001b[39mdataset, \u001b[38;5;124m\"\u001b[39m\u001b[38;5;124m__getitems__\u001b[39m\u001b[38;5;124m\"\u001b[39m) \u001b[38;5;129;01mand\u001b[39;00m \u001b[38;5;28mself\u001b[39m\u001b[38;5;241m.\u001b[39mdataset\u001b[38;5;241m.\u001b[39m__getitems__:\n\u001b[1;32m---> 49\u001b[0m         data \u001b[38;5;241m=\u001b[39m \u001b[38;5;28;43mself\u001b[39;49m\u001b[38;5;241;43m.\u001b[39;49m\u001b[43mdataset\u001b[49m\u001b[38;5;241;43m.\u001b[39;49m\u001b[43m__getitems__\u001b[49m\u001b[43m(\u001b[49m\u001b[43mpossibly_batched_index\u001b[49m\u001b[43m)\u001b[49m\n\u001b[0;32m     50\u001b[0m     \u001b[38;5;28;01melse\u001b[39;00m:\n\u001b[0;32m     51\u001b[0m         data \u001b[38;5;241m=\u001b[39m [\u001b[38;5;28mself\u001b[39m\u001b[38;5;241m.\u001b[39mdataset[idx] \u001b[38;5;28;01mfor\u001b[39;00m idx \u001b[38;5;129;01min\u001b[39;00m possibly_batched_index]\n",
      "File \u001b[1;32m~\\AppData\\Local\\anaconda3\\envs\\OMICRON\\Lib\\site-packages\\torch\\utils\\data\\dataset.py:364\u001b[0m, in \u001b[0;36mSubset.__getitems__\u001b[1;34m(self, indices)\u001b[0m\n\u001b[0;32m    362\u001b[0m     \u001b[38;5;28;01mreturn\u001b[39;00m \u001b[38;5;28mself\u001b[39m\u001b[38;5;241m.\u001b[39mdataset\u001b[38;5;241m.\u001b[39m__getitems__([\u001b[38;5;28mself\u001b[39m\u001b[38;5;241m.\u001b[39mindices[idx] \u001b[38;5;28;01mfor\u001b[39;00m idx \u001b[38;5;129;01min\u001b[39;00m indices])  \u001b[38;5;66;03m# type: ignore[attr-defined]\u001b[39;00m\n\u001b[0;32m    363\u001b[0m \u001b[38;5;28;01melse\u001b[39;00m:\n\u001b[1;32m--> 364\u001b[0m     \u001b[38;5;28;01mreturn\u001b[39;00m \u001b[43m[\u001b[49m\u001b[38;5;28;43mself\u001b[39;49m\u001b[38;5;241;43m.\u001b[39;49m\u001b[43mdataset\u001b[49m\u001b[43m[\u001b[49m\u001b[38;5;28;43mself\u001b[39;49m\u001b[38;5;241;43m.\u001b[39;49m\u001b[43mindices\u001b[49m\u001b[43m[\u001b[49m\u001b[43midx\u001b[49m\u001b[43m]\u001b[49m\u001b[43m]\u001b[49m\u001b[43m \u001b[49m\u001b[38;5;28;43;01mfor\u001b[39;49;00m\u001b[43m \u001b[49m\u001b[43midx\u001b[49m\u001b[43m \u001b[49m\u001b[38;5;129;43;01min\u001b[39;49;00m\u001b[43m \u001b[49m\u001b[43mindices\u001b[49m\u001b[43m]\u001b[49m\n",
      "File \u001b[1;32m~\\AppData\\Local\\anaconda3\\envs\\OMICRON\\Lib\\site-packages\\torch\\utils\\data\\dataset.py:364\u001b[0m, in \u001b[0;36m<listcomp>\u001b[1;34m(.0)\u001b[0m\n\u001b[0;32m    362\u001b[0m     \u001b[38;5;28;01mreturn\u001b[39;00m \u001b[38;5;28mself\u001b[39m\u001b[38;5;241m.\u001b[39mdataset\u001b[38;5;241m.\u001b[39m__getitems__([\u001b[38;5;28mself\u001b[39m\u001b[38;5;241m.\u001b[39mindices[idx] \u001b[38;5;28;01mfor\u001b[39;00m idx \u001b[38;5;129;01min\u001b[39;00m indices])  \u001b[38;5;66;03m# type: ignore[attr-defined]\u001b[39;00m\n\u001b[0;32m    363\u001b[0m \u001b[38;5;28;01melse\u001b[39;00m:\n\u001b[1;32m--> 364\u001b[0m     \u001b[38;5;28;01mreturn\u001b[39;00m [\u001b[38;5;28;43mself\u001b[39;49m\u001b[38;5;241;43m.\u001b[39;49m\u001b[43mdataset\u001b[49m\u001b[43m[\u001b[49m\u001b[38;5;28;43mself\u001b[39;49m\u001b[38;5;241;43m.\u001b[39;49m\u001b[43mindices\u001b[49m\u001b[43m[\u001b[49m\u001b[43midx\u001b[49m\u001b[43m]\u001b[49m\u001b[43m]\u001b[49m \u001b[38;5;28;01mfor\u001b[39;00m idx \u001b[38;5;129;01min\u001b[39;00m indices]\n",
      "File \u001b[1;32m~\\AppData\\Local\\anaconda3\\envs\\OMICRON\\Lib\\site-packages\\torchvision\\datasets\\folder.py:229\u001b[0m, in \u001b[0;36mDatasetFolder.__getitem__\u001b[1;34m(self, index)\u001b[0m\n\u001b[0;32m    221\u001b[0m \u001b[38;5;250m\u001b[39m\u001b[38;5;124;03m\"\"\"\u001b[39;00m\n\u001b[0;32m    222\u001b[0m \u001b[38;5;124;03mArgs:\u001b[39;00m\n\u001b[0;32m    223\u001b[0m \u001b[38;5;124;03m    index (int): Index\u001b[39;00m\n\u001b[1;32m   (...)\u001b[0m\n\u001b[0;32m    226\u001b[0m \u001b[38;5;124;03m    tuple: (sample, target) where target is class_index of the target class.\u001b[39;00m\n\u001b[0;32m    227\u001b[0m \u001b[38;5;124;03m\"\"\"\u001b[39;00m\n\u001b[0;32m    228\u001b[0m path, target \u001b[38;5;241m=\u001b[39m \u001b[38;5;28mself\u001b[39m\u001b[38;5;241m.\u001b[39msamples[index]\n\u001b[1;32m--> 229\u001b[0m sample \u001b[38;5;241m=\u001b[39m \u001b[38;5;28;43mself\u001b[39;49m\u001b[38;5;241;43m.\u001b[39;49m\u001b[43mloader\u001b[49m\u001b[43m(\u001b[49m\u001b[43mpath\u001b[49m\u001b[43m)\u001b[49m\n\u001b[0;32m    230\u001b[0m \u001b[38;5;28;01mif\u001b[39;00m \u001b[38;5;28mself\u001b[39m\u001b[38;5;241m.\u001b[39mtransform \u001b[38;5;129;01mis\u001b[39;00m \u001b[38;5;129;01mnot\u001b[39;00m \u001b[38;5;28;01mNone\u001b[39;00m:\n\u001b[0;32m    231\u001b[0m     sample \u001b[38;5;241m=\u001b[39m \u001b[38;5;28mself\u001b[39m\u001b[38;5;241m.\u001b[39mtransform(sample)\n",
      "File \u001b[1;32m~\\AppData\\Local\\anaconda3\\envs\\OMICRON\\Lib\\site-packages\\torchvision\\datasets\\folder.py:268\u001b[0m, in \u001b[0;36mdefault_loader\u001b[1;34m(path)\u001b[0m\n\u001b[0;32m    266\u001b[0m     \u001b[38;5;28;01mreturn\u001b[39;00m accimage_loader(path)\n\u001b[0;32m    267\u001b[0m \u001b[38;5;28;01melse\u001b[39;00m:\n\u001b[1;32m--> 268\u001b[0m     \u001b[38;5;28;01mreturn\u001b[39;00m \u001b[43mpil_loader\u001b[49m\u001b[43m(\u001b[49m\u001b[43mpath\u001b[49m\u001b[43m)\u001b[49m\n",
      "File \u001b[1;32m~\\AppData\\Local\\anaconda3\\envs\\OMICRON\\Lib\\site-packages\\torchvision\\datasets\\folder.py:248\u001b[0m, in \u001b[0;36mpil_loader\u001b[1;34m(path)\u001b[0m\n\u001b[0;32m    246\u001b[0m \u001b[38;5;28;01mwith\u001b[39;00m \u001b[38;5;28mopen\u001b[39m(path, \u001b[38;5;124m\"\u001b[39m\u001b[38;5;124mrb\u001b[39m\u001b[38;5;124m\"\u001b[39m) \u001b[38;5;28;01mas\u001b[39;00m f:\n\u001b[0;32m    247\u001b[0m     img \u001b[38;5;241m=\u001b[39m Image\u001b[38;5;241m.\u001b[39mopen(f)\n\u001b[1;32m--> 248\u001b[0m     \u001b[38;5;28;01mreturn\u001b[39;00m \u001b[43mimg\u001b[49m\u001b[38;5;241;43m.\u001b[39;49m\u001b[43mconvert\u001b[49m\u001b[43m(\u001b[49m\u001b[38;5;124;43m\"\u001b[39;49m\u001b[38;5;124;43mRGB\u001b[39;49m\u001b[38;5;124;43m\"\u001b[39;49m\u001b[43m)\u001b[49m\n",
      "File \u001b[1;32m~\\AppData\\Local\\anaconda3\\envs\\OMICRON\\Lib\\site-packages\\PIL\\Image.py:911\u001b[0m, in \u001b[0;36mImage.convert\u001b[1;34m(self, mode, matrix, dither, palette, colors)\u001b[0m\n\u001b[0;32m    863\u001b[0m \u001b[38;5;28;01mdef\u001b[39;00m \u001b[38;5;21mconvert\u001b[39m(\n\u001b[0;32m    864\u001b[0m     \u001b[38;5;28mself\u001b[39m, mode\u001b[38;5;241m=\u001b[39m\u001b[38;5;28;01mNone\u001b[39;00m, matrix\u001b[38;5;241m=\u001b[39m\u001b[38;5;28;01mNone\u001b[39;00m, dither\u001b[38;5;241m=\u001b[39m\u001b[38;5;28;01mNone\u001b[39;00m, palette\u001b[38;5;241m=\u001b[39mPalette\u001b[38;5;241m.\u001b[39mWEB, colors\u001b[38;5;241m=\u001b[39m\u001b[38;5;241m256\u001b[39m\n\u001b[0;32m    865\u001b[0m ):\n\u001b[0;32m    866\u001b[0m \u001b[38;5;250m    \u001b[39m\u001b[38;5;124;03m\"\"\"\u001b[39;00m\n\u001b[0;32m    867\u001b[0m \u001b[38;5;124;03m    Returns a converted copy of this image. For the \"P\" mode, this\u001b[39;00m\n\u001b[0;32m    868\u001b[0m \u001b[38;5;124;03m    method translates pixels through the palette.  If mode is\u001b[39;00m\n\u001b[1;32m   (...)\u001b[0m\n\u001b[0;32m    908\u001b[0m \u001b[38;5;124;03m    :returns: An :py:class:`~PIL.Image.Image` object.\u001b[39;00m\n\u001b[0;32m    909\u001b[0m \u001b[38;5;124;03m    \"\"\"\u001b[39;00m\n\u001b[1;32m--> 911\u001b[0m     \u001b[38;5;28;43mself\u001b[39;49m\u001b[38;5;241;43m.\u001b[39;49m\u001b[43mload\u001b[49m\u001b[43m(\u001b[49m\u001b[43m)\u001b[49m\n\u001b[0;32m    913\u001b[0m     has_transparency \u001b[38;5;241m=\u001b[39m \u001b[38;5;28mself\u001b[39m\u001b[38;5;241m.\u001b[39minfo\u001b[38;5;241m.\u001b[39mget(\u001b[38;5;124m\"\u001b[39m\u001b[38;5;124mtransparency\u001b[39m\u001b[38;5;124m\"\u001b[39m) \u001b[38;5;129;01mis\u001b[39;00m \u001b[38;5;129;01mnot\u001b[39;00m \u001b[38;5;28;01mNone\u001b[39;00m\n\u001b[0;32m    914\u001b[0m     \u001b[38;5;28;01mif\u001b[39;00m \u001b[38;5;129;01mnot\u001b[39;00m mode \u001b[38;5;129;01mand\u001b[39;00m \u001b[38;5;28mself\u001b[39m\u001b[38;5;241m.\u001b[39mmode \u001b[38;5;241m==\u001b[39m \u001b[38;5;124m\"\u001b[39m\u001b[38;5;124mP\u001b[39m\u001b[38;5;124m\"\u001b[39m:\n\u001b[0;32m    915\u001b[0m         \u001b[38;5;66;03m# determine default mode\u001b[39;00m\n",
      "File \u001b[1;32m~\\AppData\\Local\\anaconda3\\envs\\OMICRON\\Lib\\site-packages\\PIL\\ImageFile.py:269\u001b[0m, in \u001b[0;36mImageFile.load\u001b[1;34m(self)\u001b[0m\n\u001b[0;32m    266\u001b[0m         \u001b[38;5;28;01mraise\u001b[39;00m \u001b[38;5;167;01mOSError\u001b[39;00m(msg)\n\u001b[0;32m    268\u001b[0m b \u001b[38;5;241m=\u001b[39m b \u001b[38;5;241m+\u001b[39m s\n\u001b[1;32m--> 269\u001b[0m n, err_code \u001b[38;5;241m=\u001b[39m \u001b[43mdecoder\u001b[49m\u001b[38;5;241;43m.\u001b[39;49m\u001b[43mdecode\u001b[49m\u001b[43m(\u001b[49m\u001b[43mb\u001b[49m\u001b[43m)\u001b[49m\n\u001b[0;32m    270\u001b[0m \u001b[38;5;28;01mif\u001b[39;00m n \u001b[38;5;241m<\u001b[39m \u001b[38;5;241m0\u001b[39m:\n\u001b[0;32m    271\u001b[0m     \u001b[38;5;28;01mbreak\u001b[39;00m\n",
      "\u001b[1;31mKeyboardInterrupt\u001b[0m: "
     ]
    },
    {
     "data": {
      "image/png": "[encoded data removed]",
      "text/plain": [
       "<Figure size 640x480 with 1 Axes>"
      ]
     },
     "metadata": {},
     "output_type": "display_data"
    }
   ],
   "source": [
    "import torch\n",
    "import torch.nn as nn\n",
    "import torch.optim as optim\n",
    "import torch.utils.data\n",
    "import torch.nn.functional as F\n",
    "import torchvision\n",
    "from torchvision import transforms\n",
    "from PIL import Image, ImageFile\n",
    "from datetime import datetime\n",
    "import matplotlib.pyplot as plt\n",
    "\n",
    "    \n",
    "model = torch.hub.load('pytorch/vision:v0.10.0', 'resnet18',pretrained=True)\n",
    "    \n",
    "import torch.optim as optim\n",
    "optimizer = torch.optim.SGD(model.parameters(), lr=0.00005)\n",
    "\n",
    "def train(model, optimizer, loss_fn, train_loader, val_loader, epochs=100, device=\"cpu\"):\n",
    "    \n",
    "    plotting = True\n",
    "\n",
    "    if plotting == True:\n",
    "       \n",
    "        # make filename to store figure\n",
    "        timestr = datetime.now().strftime(\"%Y%m%d-%H%M%S\")\n",
    "        filename = './result_plots/training_plot_' + timestr + '.png'\n",
    "\n",
    "        # intialize plot\n",
    "        plt.ion()\n",
    "        plt.style.use('fivethirtyeight')\n",
    "        fig = plt.figure()\n",
    "        ax = fig.add_subplot(111)\n",
    "        ax.legend([' (red)Training Loss', '(green)Validation Loss', '(blue)Accuracy'])\n",
    "        ax.set_ylim([0, 1.5])\n",
    "\n",
    "        # x - axis :array with epochs\n",
    "        epoch_arr = np.arange(1, epochs+1)\n",
    "\n",
    "        # y-axis: storing intermediate results for plotting \n",
    "        cum_train_loss = []\n",
    "        cum_val_loss = []\n",
    "        acc = [] \n",
    "\n",
    "\n",
    "        \n",
    "    # loop over epochs\n",
    "    for epoch in range(1, epochs+1):\n",
    "\n",
    "        # training loop\n",
    "        training_loss = 0.0\n",
    "        valid_loss = 0.0\n",
    "        model.train()\n",
    "        \n",
    "        for batch in train_loader:\n",
    "            optimizer.zero_grad()\n",
    "            inputs, targets = batch\n",
    "            inputs = inputs.to(device)\n",
    "            targets = targets.to(device)\n",
    "            output = model(inputs)\n",
    "            loss = loss_fn(output, targets)\n",
    "            loss.backward()\n",
    "            optimizer.step()\n",
    "            training_loss += loss.data.item() * inputs.size(0)\n",
    "            \n",
    "        training_loss /= len(train_loader.dataset)\n",
    "\n",
    "        # validation loop\n",
    "        model.eval()\n",
    "        num_correct = 0 \n",
    "        num_examples = 0\n",
    "        \n",
    "        for batch in val_loader:\n",
    "            inputs, targets = batch\n",
    "            inputs = inputs.to(device)\n",
    "            output = model(inputs)\n",
    "            targets = targets.to(device)\n",
    "            loss = loss_fn(output,targets) \n",
    "            valid_loss += loss.data.item() * inputs.size(0)\n",
    "            correct = torch.eq(torch.max(F.softmax(output, dim=1), dim=1)[1], targets)\n",
    "            num_correct += torch.sum(correct).item()\n",
    "            num_examples += correct.shape[0]\n",
    "\n",
    "        valid_loss /= len(val_loader.dataset)\n",
    "        \n",
    "        \n",
    "        print('Epoch: {}, Training Loss: {:.2f}, Validation Loss: {:.2f}, accuracy = {:.2f}'.format(epoch, training_loss,\n",
    "        valid_loss, num_correct / num_examples))\n",
    "\n",
    "\n",
    "        if plotting == True:\n",
    "            \n",
    "            # storing intermediate results for plotting\n",
    "            cum_train_loss.append(training_loss)\n",
    "            cum_val_loss.append(valid_loss)\n",
    "            acc.append(num_correct / num_examples)\n",
    "\n",
    "            # plotting results \n",
    "            ax.plot(epoch_arr[:epoch], cum_train_loss, 'r',linewidth=1)\n",
    "            ax.plot(epoch_arr[:epoch], cum_val_loss, 'g',linewidth=1)\n",
    "            ax.plot(epoch_arr[:epoch], acc, 'b',linewidth=1)\n",
    "\n",
    "            # refresh figure\n",
    "            fig.canvas.draw()\n",
    "            fig.canvas.flush_events()\n",
    "\n",
    "            # saving intermediate plots\n",
    "            if epoch % 10 == 0:\n",
    "                fig.savefig(filename)\n",
    "\n",
    "\n",
    "    # saving final plot \n",
    "    fig.savefig()\n",
    "\n",
    "    return fig\n",
    "\n",
    "\n",
    "# device = torch.device('cuda' if torch.cuda.is_available() else 'cpu')\n",
    "if torch.cuda.is_available():\n",
    "    device = torch.device(\"cuda\")\n",
    "    print(\"using GPU to train model\")\n",
    "    torch.cuda.empty_cache()\n",
    "else:\n",
    "    device = torch.device(\"cpu\")\n",
    "    print(\"using CPU to train model\")\n",
    "\n",
    "\n",
    "model.to(device)\n",
    "\n",
    "train(model, optimizer, torch.nn.CrossEntropyLoss(),train_loader, valid_loader, epochs=500, device=device)"
   ]
  },
  {
   "cell_type": "code",
   "execution_count": 7,
   "id": "9edec249-b41d-42f1-8d7c-fa8b9eb63393",
   "metadata": {},
   "outputs": [
    {
     "name": "stdout",
     "output_type": "stream",
     "text": [
      "Average Test Loss: 0.58, Average Test Accuracy: 0.81\n"
     ]
    }
   ],
   "source": [
    "def test(model, test_loader, loss_fn, num_runs=5, device=\"cpu\"):\n",
    "    model.eval()\n",
    "    total_accuracy = 0.0\n",
    "    total_loss = 0.0\n",
    "\n",
    "    for run in range(num_runs):\n",
    "        num_correct = 0\n",
    "        num_examples = 0\n",
    "\n",
    "        for batch in test_loader:\n",
    "            inputs, targets = batch\n",
    "            inputs = inputs.to(device)\n",
    "            targets = targets.to(device)\n",
    "\n",
    "            with torch.no_grad():\n",
    "                output = model(inputs)\n",
    "                loss = loss_fn(output, targets)\n",
    "                total_loss += loss.item() * inputs.size(0)\n",
    "\n",
    "            correct = torch.eq(torch.max(F.softmax(output, dim=1), dim=1)[1], targets)\n",
    "            num_correct += torch.sum(correct).item()\n",
    "            num_examples += correct.shape[0]\n",
    "\n",
    "        accuracy = num_correct / num_examples\n",
    "        total_accuracy += accuracy\n",
    "\n",
    "    average_loss = total_loss / (num_runs * len(test_loader.dataset))\n",
    "    average_accuracy = total_accuracy / num_runs\n",
    "\n",
    "    print('Average Test Loss: {:.2f}, Average Test Accuracy: {:.2f}'.format(average_loss, average_accuracy))\n",
    "\n",
    "num_runs = 10\n",
    "test(model, test_loader, torch.nn.CrossEntropyLoss(), num_runs=num_runs, device=device)"
   ]
  }
 ],
 "metadata": {
  "kernelspec": {
   "display_name": "Python 3 (ipykernel)",
   "language": "python",
   "name": "python3"
  },
  "language_info": {
   "codemirror_mode": {
    "name": "ipython",
    "version": 3
   },
   "file_extension": ".py",
   "mimetype": "text/x-python",
   "name": "python",
   "nbconvert_exporter": "python",
   "pygments_lexer": "ipython3",
   "version": "3.11.6"
  }
 },
 "nbformat": 4,
 "nbformat_minor": 5
}

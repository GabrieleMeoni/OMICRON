{
 "cells": [
  {
   "cell_type": "markdown",
   "id": "beefc598-b578-4420-ae2a-14ba2ea15a9e",
   "metadata": {},
   "source": [
    "# Image labelling - Graphical User Interface (GUI)"
   ]
  },
  {
   "cell_type": "markdown",
   "id": "3fe940bf-d307-4329-a62d-5b3810a293b9",
   "metadata": {},
   "source": [
    "This notebook implements a `Graphical User Interface (GUI)` to manually label the images. <br>\n",
    "The GUI automatically parses the `png_unfiltered` folder and extracts all the images. It plots on the left the original `RAW` image. On the right, it shows a `Filtered` version to help you to visualize the image. Filtering is applied through the `equalize_tensor` algorithm implemented in [PyRawS](https://github.com/ESA-PhiLab/PyRawS/blob/main/pyraws/utils/visualization_utils.py). "
   ]
  },
  {
   "cell_type": "markdown",
   "id": "1c79b286-de2e-4f79-b04f-f5dc77e50c59",
   "metadata": {},
   "source": [
    "## 1. - Imports"
   ]
  },
  {
   "cell_type": "code",
   "execution_count": 16,
   "id": "a09a54f6-3fc4-463a-a93f-72cdd4ea75d3",
   "metadata": {
    "ExecuteTime": {
     "end_time": "2023-12-01T08:30:15.659924700Z",
     "start_time": "2023-12-01T08:30:13.506370400Z"
    }
   },
   "outputs": [
    {
     "name": "stdout",
     "output_type": "stream",
     "text": [
      "The autoreload extension is already loaded. To reload it, use:\n",
      "  %reload_ext autoreload\n"
     ]
    }
   ],
   "source": [
    "%matplotlib widget\n",
    "%matplotlib inline\n",
    "%load_ext autoreload\n",
    "%autoreload 2\n",
    "# To prevent automatic figure display when execution of the cell ends\n",
    "%config InlineBackend.close_figures=False"
   ]
  },
  {
   "cell_type": "code",
   "execution_count": 17,
   "id": "26166ece-1cb3-4231-b2c6-3df9b39488c2",
   "metadata": {
    "ExecuteTime": {
     "end_time": "2023-12-01T08:30:15.792076100Z",
     "start_time": "2023-12-01T08:30:15.662924900Z"
    }
   },
   "outputs": [],
   "source": [
    "import torch\n",
    "from torchvision.io import read_image\n",
    "import os\n",
    "import sys\n",
    "sys.path.insert(1, os.path.join(\"..\", \"data\"))\n",
    "sys.path.insert(1, os.path.join(\"..\", \"utils\"))\n",
    "import matplotlib.pyplot as plt\n",
    "import numpy as np\n",
    "from plot_utils import plot_image\n",
    "from glob import glob\n",
    "import ipywidgets as widgets\n",
    "from IPython.display import display, clear_output\n",
    "import shutil\n"
   ]
  },
  {
   "cell_type": "markdown",
   "id": "0e285782-59e0-4816-bcf8-bf66981200a2",
   "metadata": {},
   "source": [
    "## 2. - Creating directories and pointing to their path"
   ]
  },
  {
   "cell_type": "code",
   "execution_count": 18,
   "id": "9036d3bc-6f98-41aa-beba-c94d7eb1478b",
   "metadata": {
    "ExecuteTime": {
     "end_time": "2023-12-01T08:30:15.919561200Z",
     "start_time": "2023-12-01T08:30:15.789588800Z"
    }
   },
   "outputs": [],
   "source": [
    "data_folder=os.path.join(\"..\", \"data\")\n",
    "cloud_folder=os.path.join(data_folder, \"Cloud\")\n",
    "good_folder=os.path.join(data_folder, \"Good\")\n",
    "edge_folder=os.path.join(data_folder, \"Edge\")\n",
    "png_folder=os.path.join(data_folder, \"png_unfiltered\")\n",
    "\n",
    "# Creating folders if not existing\n",
    "os.makedirs(cloud_folder, exist_ok=True)\n",
    "os.makedirs(good_folder, exist_ok=True)\n",
    "os.makedirs(edge_folder, exist_ok=True)"
   ]
  },
  {
   "cell_type": "markdown",
   "id": "761dcfee-b5ad-4ce1-9e77-fd36a6388267",
   "metadata": {},
   "source": [
    "## 3. - Running GUI"
   ]
  },
  {
   "cell_type": "markdown",
   "id": "49e72785-7de0-45c4-89d3-3d350a33148a",
   "metadata": {},
   "source": [
    "### GUI Description"
   ]
  },
  {
   "cell_type": "markdown",
   "id": "e4bf6c51-d66c-414c-9464-8da08cb845f7",
   "metadata": {},
   "source": [
    "The GUI shows four buttons on the top: <br>\n",
    "- `\"_\"`, corresponding to unknown. \n",
    "- `Cloud`, corresponding to the class `Cloud`.\n",
    "- `Edge`, corresponding to the class `Egde`.\n",
    "- `Good`, corresponding to the class `Good`.\n",
    "\n",
    "At the center, the GUI shows the `Raw` and the `Filtered` image. \n",
    "On the bottom, you can see two buttons `Prev` and `Next`, which makes you select respectively the previous or the next image in the list. <br>"
   ]
  },
  {
   "cell_type": "markdown",
   "id": "7ccab9c3-9314-4c5e-893c-25943643cc3f",
   "metadata": {},
   "source": [
    "### How to use the GUI"
   ]
  },
  {
   "cell_type": "markdown",
   "id": "e22bd7fd-e9bc-4ab9-832f-df584e8ad8c9",
   "metadata": {},
   "source": [
    "Proceed as follows:\n",
    "1. Selects the corresponding class by pressing one of the buttons on top of the GUI. Select `_` if you are not sure.\n",
    "2. Press `Next` or `Prev` buttons to move respectively upward or backward.\n",
    "3. If the class that you selected `_`, the image is just skipped and can be reprocessed again, simply pressing the button that makes you parse the list in the opposite direction than before.\n",
    "4. If the class selected is **NOT** `_`, then the image is moved from the `png_folder` to the correspondent folder (e.g., `Good` folder if you had selected `Good`) and will be removed from the list of the images to be processed. "
   ]
  },
  {
   "cell_type": "code",
   "execution_count": 19,
   "id": "3c2909f4-27cf-4d05-90b2-1fc924ea81ce",
   "metadata": {
    "ExecuteTime": {
     "end_time": "2023-12-01T08:30:16.037550800Z",
     "start_time": "2023-12-01T08:30:15.910582300Z"
    }
   },
   "outputs": [],
   "source": [
    "#Change this to speed up the processing\n",
    "figsize=(10,20)\n",
    "downsampling_factor=(2,2)"
   ]
  },
  {
   "cell_type": "code",
   "execution_count": 20,
   "id": "c6a753e1-27fb-4446-9ee9-f5f9fd3b3f97",
   "metadata": {
    "ExecuteTime": {
     "end_time": "2023-12-01T08:30:16.795537200Z",
     "start_time": "2023-12-01T08:30:16.047865800Z"
    }
   },
   "outputs": [
    {
     "data": {
      "application/vnd.jupyter.widget-view+json": {
       "model_id": "520791102d7b4e0f8f54182bf7438302",
       "version_major": 2,
       "version_minor": 0
      },
      "text/plain": [
       "VBox(children=(ToggleButtons(description='Output dir:', options=('_', 'Cloud', 'Edge', 'Good'), value='_'), Ou…"
      ]
     },
     "metadata": {},
     "output_type": "display_data"
    }
   ],
   "source": [
    "plt.ioff()\n",
    "\n",
    "# Read images in PNG_FOLDER\n",
    "images_path=sorted(glob(os.path.join(png_folder, \"*\")))\n",
    "# Setting all the pointers to 0\n",
    "n_pointer=0\n",
    "n_images=len(images_path)\n",
    "# Read first image\n",
    "if n_images != 0:\n",
    "    image=read_image(images_path[0])\n",
    "\n",
    "\n",
    "# Get output\n",
    "output = widgets.Output()\n",
    "if n_images != 0:\n",
    "    # Plotting first image\n",
    "    with output:\n",
    "        clear_output(wait=True)\n",
    "        ax=plot_image(image, figsize=figsize,downsampling_factor=downsampling_factor)\n",
    "        display(ax.figure)\n",
    "else:\n",
    "    with output:\n",
    "        print(\"Processing finished\")\n",
    "# Get widgets\n",
    "next = widgets.Button(description='Next')\n",
    "prev = widgets.Button(description='Prev')\n",
    "buttons=widgets.HBox([prev, next])\n",
    "toggle_buttons = widgets.ToggleButtons(\n",
    "    options=['_', 'Cloud', 'Edge', 'Good'],\n",
    "    description='Output dir:',\n",
    ")\n",
    "# Get directory path depending on directory\n",
    "def get_directory(directory):\n",
    "    \"\"\"\n",
    "    Print the current widget value in short sentence\n",
    "    \"\"\"\n",
    "    if directory == \"_\":\n",
    "        selected_directory=\"\"\n",
    "    elif directory == \"Cloud\":\n",
    "        selected_directory=cloud_folder\n",
    "    elif directory == \"Good\":\n",
    "        selected_directory=good_folder\n",
    "    elif directory == \"Edge\":\n",
    "        selected_directory=edge_folder\n",
    "    else:\n",
    "        selected_directory=\"\"\n",
    "    return selected_directory\n",
    "\n",
    "# Function getter for images_path\n",
    "def get_images_path():\n",
    "    global images_path\n",
    "    return images_path\n",
    "# Function setter for images_path\n",
    "def set_images_path(images_path_new):\n",
    "    global images_path\n",
    "    images_path = images_path_new\n",
    "\n",
    "# Function getter for n_pointer\n",
    "def get_n_pointer():\n",
    "    global n_pointer\n",
    "    return n_pointer\n",
    "# Function setter for n_pointer\n",
    "def set_n_pointer(n_pointer_new):\n",
    "    global n_pointer\n",
    "    n_pointer = n_pointer_new\n",
    "\n",
    "# Setting up widgets\n",
    "vbox=widgets.VBox([toggle_buttons, output, buttons])\n",
    "display(vbox)\n",
    "\n",
    "# Handler for next button\n",
    "def move_next(obj):\n",
    "    # Getters\n",
    "    n_pointer = get_n_pointer()\n",
    "    images_path = get_images_path()\n",
    "    # Holding old values for directory path\n",
    "    path_old=images_path[n_pointer]\n",
    "    # Getting directory\n",
    "    selected_directory=get_directory(toggle_buttons.value)\n",
    "\n",
    "    # Increment pointer with wrap around to 0\n",
    "    n_pointer = (n_pointer + 1) %  len(images_path)\n",
    "    # Read new images\n",
    "    image=read_image(images_path[n_pointer])\n",
    "    # Set n_pointer\n",
    "    set_n_pointer(n_pointer)\n",
    "    # Plot new images\n",
    "    if (len(images_path) > 1) or (len(images_path) == 1 and selected_directory==\"\"):\n",
    "        with output:\n",
    "            clear_output(wait=True)\n",
    "            ax=plot_image(image,figsize=figsize,downsampling_factor=downsampling_factor)\n",
    "            display(ax.figure)\n",
    "    else:\n",
    "        clear_output(wait=True)\n",
    "    # Calculating new path\n",
    "    path_new=os.path.join(selected_directory, path_old.split(os.sep)[-1])\n",
    "    # Moving image and removing image from png_path\n",
    "    if selected_directory != \"\":\n",
    "        shutil.move(path_old,path_new)\n",
    "        images_path.remove(path_old)\n",
    "        set_images_path(images_path)\n",
    "        if n_pointer == len(images_path):\n",
    "            set_n_pointer(0)\n",
    "\n",
    "    if len(images_path) == 0:\n",
    "        with output:\n",
    "            print(\"Processing finished\")\n",
    "\n",
    "# Handler for prev button\n",
    "def move_prev(obj):\n",
    "    # Getters\n",
    "    n_pointer = get_n_pointer()\n",
    "    images_path = get_images_path()\n",
    "    # Holding old values for directory path\n",
    "    path_old=images_path[n_pointer]\n",
    "    # Getting directory\n",
    "    selected_directory=get_directory(toggle_buttons.value)\n",
    "\n",
    "    # Decreasing n_pointer with wrap around to n_images - 1\n",
    "    n_pointer = n_pointer - 1\n",
    "    if n_pointer <= 0:\n",
    "        n_pointer =  len(images_path) - 1\n",
    "    # Read new images\n",
    "    image=read_image(images_path[n_pointer])\n",
    "    # Set n_pointer\n",
    "    set_n_pointer(n_pointer)\n",
    "    if (len(images_path) > 1) or (len(images_path) == 1 and selected_directory==\"\"):\n",
    "        # Plot new images\n",
    "        with output:\n",
    "            clear_output(wait=True)\n",
    "            ax=plot_image(image,figsize=figsize,downsampling_factor=downsampling_factor)\n",
    "            display(ax.figure)\n",
    "    else:\n",
    "        clear_output(wait=True)\n",
    "\n",
    "    # Calculating new path\n",
    "    path_new=os.path.join(selected_directory, path_old.split(os.sep)[-1])\n",
    "    # Moving image and removing image from png_path\n",
    "    if selected_directory != \"\":\n",
    "        shutil.move(path_old,path_new)\n",
    "        images_path.remove(path_old)\n",
    "        set_images_path(images_path)\n",
    "        if n_pointer == len(images_path):\n",
    "            set_n_pointer(0)\n",
    "\n",
    "    if len(images_path) == 0:\n",
    "        with output:\n",
    "            print(\"Processing finished\")\n",
    "\n",
    "# Setting handlers\n",
    "next.on_click(move_next)\n",
    "prev.on_click(move_prev)"
   ]
  },
  {
   "cell_type": "code",
   "execution_count": null,
   "id": "ea9dfb93-ee12-4e90-8721-ee0abeecba76",
   "metadata": {
    "ExecuteTime": {
     "end_time": "2023-12-01T08:30:16.803854200Z",
     "start_time": "2023-12-01T08:30:16.801853800Z"
    }
   },
   "outputs": [],
   "source": []
  }
 ],
 "metadata": {
  "kernelspec": {
   "display_name": "Python 3 (ipykernel)",
   "language": "python",
   "name": "python3"
  },
  "language_info": {
   "codemirror_mode": {
    "name": "ipython",
    "version": 3
   },
   "file_extension": ".py",
   "mimetype": "text/x-python",
   "name": "python",
   "nbconvert_exporter": "python",
   "pygments_lexer": "ipython3",
   "version": "3.11.6"
  }
 },
 "nbformat": 4,
 "nbformat_minor": 5
}

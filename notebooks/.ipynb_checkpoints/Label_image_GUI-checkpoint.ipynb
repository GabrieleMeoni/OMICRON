{
 "cells": [
  {
   "cell_type": "markdown",
   "id": "beefc598-b578-4420-ae2a-14ba2ea15a9e",
   "metadata": {},
   "source": [
    "# Image labelling - Graphical User Interface (GUI)"
   ]
  },
  {
   "cell_type": "markdown",
   "id": "3fe940bf-d307-4329-a62d-5b3810a293b9",
   "metadata": {},
   "source": [
    "This notebook implements a `Graphical User Interface (GUI)` to manually label the images. <br>\n",
    "The GUI automatically parses the `png_unfiltered` folder and extracts all the images. It plots on the left the original `RAW` image. On the right, it shows a `Filtered` version to help you to visualize the image. Filtering is applied through the `equalize_tensor` algorithm implemented in [PyRawS](https://github.com/ESA-PhiLab/PyRawS/blob/main/pyraws/utils/visualization_utils.py). "
   ]
  },
  {
   "cell_type": "markdown",
   "id": "1c79b286-de2e-4f79-b04f-f5dc77e50c59",
   "metadata": {},
   "source": [
    "## 1. - Imports"
   ]
  },
  {
   "cell_type": "code",
   "execution_count": 1,
   "id": "a09a54f6-3fc4-463a-a93f-72cdd4ea75d3",
   "metadata": {},
   "outputs": [
    {
     "ename": "ModuleNotFoundError",
     "evalue": "No module named 'ipympl'",
     "output_type": "error",
     "traceback": [
      "\u001b[1;31m---------------------------------------------------------------------------\u001b[0m",
      "\u001b[1;31mModuleNotFoundError\u001b[0m                       Traceback (most recent call last)",
      "Cell \u001b[1;32mIn[1], line 1\u001b[0m\n\u001b[1;32m----> 1\u001b[0m get_ipython()\u001b[38;5;241m.\u001b[39mrun_line_magic(\u001b[38;5;124m'\u001b[39m\u001b[38;5;124mmatplotlib\u001b[39m\u001b[38;5;124m'\u001b[39m, \u001b[38;5;124m'\u001b[39m\u001b[38;5;124mwidget\u001b[39m\u001b[38;5;124m'\u001b[39m)\n\u001b[0;32m      2\u001b[0m get_ipython()\u001b[38;5;241m.\u001b[39mrun_line_magic(\u001b[38;5;124m'\u001b[39m\u001b[38;5;124mmatplotlib\u001b[39m\u001b[38;5;124m'\u001b[39m, \u001b[38;5;124m'\u001b[39m\u001b[38;5;124minline\u001b[39m\u001b[38;5;124m'\u001b[39m)\n\u001b[0;32m      3\u001b[0m get_ipython()\u001b[38;5;241m.\u001b[39mrun_line_magic(\u001b[38;5;124m'\u001b[39m\u001b[38;5;124mload_ext\u001b[39m\u001b[38;5;124m'\u001b[39m, \u001b[38;5;124m'\u001b[39m\u001b[38;5;124mautoreload\u001b[39m\u001b[38;5;124m'\u001b[39m)\n",
      "File \u001b[1;32m~\\AppData\\Local\\anaconda3\\Lib\\site-packages\\IPython\\core\\interactiveshell.py:2432\u001b[0m, in \u001b[0;36mInteractiveShell.run_line_magic\u001b[1;34m(self, magic_name, line, _stack_depth)\u001b[0m\n\u001b[0;32m   2430\u001b[0m     kwargs[\u001b[38;5;124m'\u001b[39m\u001b[38;5;124mlocal_ns\u001b[39m\u001b[38;5;124m'\u001b[39m] \u001b[38;5;241m=\u001b[39m \u001b[38;5;28mself\u001b[39m\u001b[38;5;241m.\u001b[39mget_local_scope(stack_depth)\n\u001b[0;32m   2431\u001b[0m \u001b[38;5;28;01mwith\u001b[39;00m \u001b[38;5;28mself\u001b[39m\u001b[38;5;241m.\u001b[39mbuiltin_trap:\n\u001b[1;32m-> 2432\u001b[0m     result \u001b[38;5;241m=\u001b[39m fn(\u001b[38;5;241m*\u001b[39margs, \u001b[38;5;241m*\u001b[39m\u001b[38;5;241m*\u001b[39mkwargs)\n\u001b[0;32m   2434\u001b[0m \u001b[38;5;66;03m# The code below prevents the output from being displayed\u001b[39;00m\n\u001b[0;32m   2435\u001b[0m \u001b[38;5;66;03m# when using magics with decorator @output_can_be_silenced\u001b[39;00m\n\u001b[0;32m   2436\u001b[0m \u001b[38;5;66;03m# when the last Python token in the expression is a ';'.\u001b[39;00m\n\u001b[0;32m   2437\u001b[0m \u001b[38;5;28;01mif\u001b[39;00m \u001b[38;5;28mgetattr\u001b[39m(fn, magic\u001b[38;5;241m.\u001b[39mMAGIC_OUTPUT_CAN_BE_SILENCED, \u001b[38;5;28;01mFalse\u001b[39;00m):\n",
      "File \u001b[1;32m~\\AppData\\Local\\anaconda3\\Lib\\site-packages\\IPython\\core\\magics\\pylab.py:99\u001b[0m, in \u001b[0;36mPylabMagics.matplotlib\u001b[1;34m(self, line)\u001b[0m\n\u001b[0;32m     97\u001b[0m     \u001b[38;5;28mprint\u001b[39m(\u001b[38;5;124m\"\u001b[39m\u001b[38;5;124mAvailable matplotlib backends: \u001b[39m\u001b[38;5;132;01m%s\u001b[39;00m\u001b[38;5;124m\"\u001b[39m \u001b[38;5;241m%\u001b[39m backends_list)\n\u001b[0;32m     98\u001b[0m \u001b[38;5;28;01melse\u001b[39;00m:\n\u001b[1;32m---> 99\u001b[0m     gui, backend \u001b[38;5;241m=\u001b[39m \u001b[38;5;28mself\u001b[39m\u001b[38;5;241m.\u001b[39mshell\u001b[38;5;241m.\u001b[39menable_matplotlib(args\u001b[38;5;241m.\u001b[39mgui\u001b[38;5;241m.\u001b[39mlower() \u001b[38;5;28;01mif\u001b[39;00m \u001b[38;5;28misinstance\u001b[39m(args\u001b[38;5;241m.\u001b[39mgui, \u001b[38;5;28mstr\u001b[39m) \u001b[38;5;28;01melse\u001b[39;00m args\u001b[38;5;241m.\u001b[39mgui)\n\u001b[0;32m    100\u001b[0m     \u001b[38;5;28mself\u001b[39m\u001b[38;5;241m.\u001b[39m_show_matplotlib_backend(args\u001b[38;5;241m.\u001b[39mgui, backend)\n",
      "File \u001b[1;32m~\\AppData\\Local\\anaconda3\\Lib\\site-packages\\IPython\\core\\interactiveshell.py:3621\u001b[0m, in \u001b[0;36mInteractiveShell.enable_matplotlib\u001b[1;34m(self, gui)\u001b[0m\n\u001b[0;32m   3617\u001b[0m         \u001b[38;5;28mprint\u001b[39m(\u001b[38;5;124m'\u001b[39m\u001b[38;5;124mWarning: Cannot change to a different GUI toolkit: \u001b[39m\u001b[38;5;132;01m%s\u001b[39;00m\u001b[38;5;124m.\u001b[39m\u001b[38;5;124m'\u001b[39m\n\u001b[0;32m   3618\u001b[0m                 \u001b[38;5;124m'\u001b[39m\u001b[38;5;124m Using \u001b[39m\u001b[38;5;132;01m%s\u001b[39;00m\u001b[38;5;124m instead.\u001b[39m\u001b[38;5;124m'\u001b[39m \u001b[38;5;241m%\u001b[39m (gui, \u001b[38;5;28mself\u001b[39m\u001b[38;5;241m.\u001b[39mpylab_gui_select))\n\u001b[0;32m   3619\u001b[0m         gui, backend \u001b[38;5;241m=\u001b[39m pt\u001b[38;5;241m.\u001b[39mfind_gui_and_backend(\u001b[38;5;28mself\u001b[39m\u001b[38;5;241m.\u001b[39mpylab_gui_select)\n\u001b[1;32m-> 3621\u001b[0m pt\u001b[38;5;241m.\u001b[39mactivate_matplotlib(backend)\n\u001b[0;32m   3622\u001b[0m configure_inline_support(\u001b[38;5;28mself\u001b[39m, backend)\n\u001b[0;32m   3624\u001b[0m \u001b[38;5;66;03m# Now we must activate the gui pylab wants to use, and fix %run to take\u001b[39;00m\n\u001b[0;32m   3625\u001b[0m \u001b[38;5;66;03m# plot updates into account\u001b[39;00m\n",
      "File \u001b[1;32m~\\AppData\\Local\\anaconda3\\Lib\\site-packages\\IPython\\core\\pylabtools.py:368\u001b[0m, in \u001b[0;36mactivate_matplotlib\u001b[1;34m(backend)\u001b[0m\n\u001b[0;32m    363\u001b[0m \u001b[38;5;66;03m# Due to circular imports, pyplot may be only partially initialised\u001b[39;00m\n\u001b[0;32m    364\u001b[0m \u001b[38;5;66;03m# when this function runs.\u001b[39;00m\n\u001b[0;32m    365\u001b[0m \u001b[38;5;66;03m# So avoid needing matplotlib attribute-lookup to access pyplot.\u001b[39;00m\n\u001b[0;32m    366\u001b[0m \u001b[38;5;28;01mfrom\u001b[39;00m \u001b[38;5;21;01mmatplotlib\u001b[39;00m \u001b[38;5;28;01mimport\u001b[39;00m pyplot \u001b[38;5;28;01mas\u001b[39;00m plt\n\u001b[1;32m--> 368\u001b[0m plt\u001b[38;5;241m.\u001b[39mswitch_backend(backend)\n\u001b[0;32m    370\u001b[0m plt\u001b[38;5;241m.\u001b[39mshow\u001b[38;5;241m.\u001b[39m_needmain \u001b[38;5;241m=\u001b[39m \u001b[38;5;28;01mFalse\u001b[39;00m\n\u001b[0;32m    371\u001b[0m \u001b[38;5;66;03m# We need to detect at runtime whether show() is called by the user.\u001b[39;00m\n\u001b[0;32m    372\u001b[0m \u001b[38;5;66;03m# For this, we wrap it into a decorator which adds a 'called' flag.\u001b[39;00m\n",
      "File \u001b[1;32m~\\AppData\\Local\\anaconda3\\Lib\\site-packages\\matplotlib\\pyplot.py:271\u001b[0m, in \u001b[0;36mswitch_backend\u001b[1;34m(newbackend)\u001b[0m\n\u001b[0;32m    268\u001b[0m \u001b[38;5;66;03m# have to escape the switch on access logic\u001b[39;00m\n\u001b[0;32m    269\u001b[0m old_backend \u001b[38;5;241m=\u001b[39m \u001b[38;5;28mdict\u001b[39m\u001b[38;5;241m.\u001b[39m\u001b[38;5;21m__getitem__\u001b[39m(rcParams, \u001b[38;5;124m'\u001b[39m\u001b[38;5;124mbackend\u001b[39m\u001b[38;5;124m'\u001b[39m)\n\u001b[1;32m--> 271\u001b[0m backend_mod \u001b[38;5;241m=\u001b[39m importlib\u001b[38;5;241m.\u001b[39mimport_module(\n\u001b[0;32m    272\u001b[0m     cbook\u001b[38;5;241m.\u001b[39m_backend_module_name(newbackend))\n\u001b[0;32m    274\u001b[0m required_framework \u001b[38;5;241m=\u001b[39m _get_required_interactive_framework(backend_mod)\n\u001b[0;32m    275\u001b[0m \u001b[38;5;28;01mif\u001b[39;00m required_framework \u001b[38;5;129;01mis\u001b[39;00m \u001b[38;5;129;01mnot\u001b[39;00m \u001b[38;5;28;01mNone\u001b[39;00m:\n",
      "File \u001b[1;32m~\\AppData\\Local\\anaconda3\\Lib\\importlib\\__init__.py:126\u001b[0m, in \u001b[0;36mimport_module\u001b[1;34m(name, package)\u001b[0m\n\u001b[0;32m    124\u001b[0m             \u001b[38;5;28;01mbreak\u001b[39;00m\n\u001b[0;32m    125\u001b[0m         level \u001b[38;5;241m+\u001b[39m\u001b[38;5;241m=\u001b[39m \u001b[38;5;241m1\u001b[39m\n\u001b[1;32m--> 126\u001b[0m \u001b[38;5;28;01mreturn\u001b[39;00m _bootstrap\u001b[38;5;241m.\u001b[39m_gcd_import(name[level:], package, level)\n",
      "File \u001b[1;32m<frozen importlib._bootstrap>:1204\u001b[0m, in \u001b[0;36m_gcd_import\u001b[1;34m(name, package, level)\u001b[0m\n",
      "File \u001b[1;32m<frozen importlib._bootstrap>:1176\u001b[0m, in \u001b[0;36m_find_and_load\u001b[1;34m(name, import_)\u001b[0m\n",
      "File \u001b[1;32m<frozen importlib._bootstrap>:1126\u001b[0m, in \u001b[0;36m_find_and_load_unlocked\u001b[1;34m(name, import_)\u001b[0m\n",
      "File \u001b[1;32m<frozen importlib._bootstrap>:241\u001b[0m, in \u001b[0;36m_call_with_frames_removed\u001b[1;34m(f, *args, **kwds)\u001b[0m\n",
      "File \u001b[1;32m<frozen importlib._bootstrap>:1204\u001b[0m, in \u001b[0;36m_gcd_import\u001b[1;34m(name, package, level)\u001b[0m\n",
      "File \u001b[1;32m<frozen importlib._bootstrap>:1176\u001b[0m, in \u001b[0;36m_find_and_load\u001b[1;34m(name, import_)\u001b[0m\n",
      "File \u001b[1;32m<frozen importlib._bootstrap>:1140\u001b[0m, in \u001b[0;36m_find_and_load_unlocked\u001b[1;34m(name, import_)\u001b[0m\n",
      "\u001b[1;31mModuleNotFoundError\u001b[0m: No module named 'ipympl'"
     ]
    }
   ],
   "source": [
    "%matplotlib widget\n",
    "%matplotlib inline\n",
    "%load_ext autoreload\n",
    "%autoreload 2\n",
    "# To prevent automatic figure display when execution of the cell ends\n",
    "%config InlineBackend.close_figures=False"
   ]
  },
  {
   "cell_type": "code",
   "execution_count": null,
   "id": "26166ece-1cb3-4231-b2c6-3df9b39488c2",
   "metadata": {},
   "outputs": [],
   "source": [
    "import torch\n",
    "from torchvision.io import read_image\n",
    "import os\n",
    "import sys\n",
    "sys.path.insert(1, os.path.join(\"..\", \"data\"))\n",
    "sys.path.insert(1, os.path.join(\"..\", \"utils\"))\n",
    "import matplotlib.pyplot as plt\n",
    "import numpy as np\n",
    "from plot_utils import plot_image\n",
    "from glob import glob\n",
    "import ipywidgets as widgets\n",
    "from IPython.display import display, clear_output\n",
    "import shutil\n"
   ]
  },
  {
   "cell_type": "markdown",
   "id": "0e285782-59e0-4816-bcf8-bf66981200a2",
   "metadata": {},
   "source": [
    "## 2. - Creating directories and pointing to their path"
   ]
  },
  {
   "cell_type": "code",
   "execution_count": null,
   "id": "9036d3bc-6f98-41aa-beba-c94d7eb1478b",
   "metadata": {},
   "outputs": [],
   "source": [
    "data_folder=os.path.join(\"..\", \"data\")\n",
    "cloud_folder=os.path.join(data_folder, \"Cloud\")\n",
    "good_folder=os.path.join(data_folder, \"Good\")\n",
    "edge_folder=os.path.join(data_folder, \"Edge\")\n",
    "png_folder=os.path.join(data_folder, \"png_unfiltered\")\n",
    "\n",
    "# Creating folders if not existing\n",
    "os.makedirs(cloud_folder, exist_ok=True)\n",
    "os.makedirs(good_folder, exist_ok=True)\n",
    "os.makedirs(edge_folder, exist_ok=True)"
   ]
  },
  {
   "cell_type": "markdown",
   "id": "761dcfee-b5ad-4ce1-9e77-fd36a6388267",
   "metadata": {},
   "source": [
    "## 3. - Running GUI"
   ]
  },
  {
   "cell_type": "markdown",
   "id": "49e72785-7de0-45c4-89d3-3d350a33148a",
   "metadata": {},
   "source": [
    "### GUI Description"
   ]
  },
  {
   "cell_type": "markdown",
   "id": "e4bf6c51-d66c-414c-9464-8da08cb845f7",
   "metadata": {},
   "source": [
    "The GUI shows four buttons on the top: <br>\n",
    "- `\"_\"`, corresponding to unknown. \n",
    "- `Cloud`, corresponding to the class `Cloud`.\n",
    "- `Edge`, corresponding to the class `Egde`.\n",
    "- `Good`, corresponding to the class `Good`.\n",
    "\n",
    "At the center, the GUI shows the `Raw` and the `Filtered` image. \n",
    "On the bottom, you can see two buttons `Prev` and `Next`, which makes you select respectively the previous or the next image in the list. <br>"
   ]
  },
  {
   "cell_type": "markdown",
   "id": "7ccab9c3-9314-4c5e-893c-25943643cc3f",
   "metadata": {},
   "source": [
    "### How to use the GUI"
   ]
  },
  {
   "cell_type": "markdown",
   "id": "e22bd7fd-e9bc-4ab9-832f-df584e8ad8c9",
   "metadata": {},
   "source": [
    "Proceed as follows:\n",
    "1. Selects the corresponding class by pressing one of the buttons on top of the GUI. Select `_` if you are not sure.\n",
    "2. Press `Next` or `Prev` buttons to move respectively upward or backward.\n",
    "3. If the class that you selected `_`, the image is just skipped and can be reprocessed again, simply pressing the button that makes you parse the list in the opposite direction than before.\n",
    "4. If the class selected is **NOT** `_`, then the image is moved from the `png_folder` to the correspondent folder (e.g., `Good` folder if you had selected `Good`) and will be removed from the list of the images to be processed. "
   ]
  },
  {
   "cell_type": "code",
   "execution_count": 3,
   "id": "3c2909f4-27cf-4d05-90b2-1fc924ea81ce",
   "metadata": {},
   "outputs": [],
   "source": [
    "#Change this to speed up the processing\n",
    "figsize=(10,20)\n",
    "downsampling_factor=(2,2)"
   ]
  },
  {
   "cell_type": "code",
   "execution_count": 4,
   "id": "c6a753e1-27fb-4446-9ee9-f5f9fd3b3f97",
   "metadata": {},
   "outputs": [
    {
     "ename": "NameError",
     "evalue": "name 'plt' is not defined",
     "output_type": "error",
     "traceback": [
      "\u001b[1;31m---------------------------------------------------------------------------\u001b[0m",
      "\u001b[1;31mNameError\u001b[0m                                 Traceback (most recent call last)",
      "Cell \u001b[1;32mIn[4], line 1\u001b[0m\n\u001b[1;32m----> 1\u001b[0m plt\u001b[38;5;241m.\u001b[39mioff()\n\u001b[0;32m      3\u001b[0m \u001b[38;5;66;03m# Read images in PNG_FOLDER\u001b[39;00m\n\u001b[0;32m      4\u001b[0m images_path\u001b[38;5;241m=\u001b[39m\u001b[38;5;28msorted\u001b[39m(glob(os\u001b[38;5;241m.\u001b[39mpath\u001b[38;5;241m.\u001b[39mjoin(png_folder, \u001b[38;5;124m\"\u001b[39m\u001b[38;5;124m*\u001b[39m\u001b[38;5;124m\"\u001b[39m)))\n",
      "\u001b[1;31mNameError\u001b[0m: name 'plt' is not defined"
     ]
    }
   ],
   "source": [
    "plt.ioff()\n",
    "\n",
    "# Read images in PNG_FOLDER\n",
    "images_path=sorted(glob(os.path.join(png_folder, \"*\")))\n",
    "# Setting all the pointers to 0\n",
    "n_pointer=0\n",
    "n_images=len(images_path)\n",
    "# Read first image\n",
    "if n_images != 0:\n",
    "    image=read_image(images_path[0])\n",
    "\n",
    "\n",
    "# Get output\n",
    "output = widgets.Output()\n",
    "if n_images != 0:\n",
    "    # Plotting first image\n",
    "    with output:\n",
    "        clear_output(wait=True)\n",
    "        ax=plot_image(image, figsize=figsize,downsampling_factor=downsampling_factor)\n",
    "        display(ax.figure)\n",
    "else:\n",
    "    with output:\n",
    "        print(\"Processing finished\")\n",
    "# Get widgets\n",
    "next = widgets.Button(description='Next')\n",
    "prev = widgets.Button(description='Prev')\n",
    "buttons=widgets.HBox([prev, next])\n",
    "toggle_buttons = widgets.ToggleButtons(\n",
    "    options=['_', 'Cloud', 'Edge', 'Good'],\n",
    "    description='Output dir:',\n",
    ")\n",
    "# Get directory path depending on directory\n",
    "def get_directory(directory):\n",
    "    \"\"\"\n",
    "    Print the current widget value in short sentence\n",
    "    \"\"\"\n",
    "    if directory == \"_\":\n",
    "        selected_directory=\"\"\n",
    "    elif directory == \"Cloud\":\n",
    "        selected_directory=cloud_folder\n",
    "    elif directory == \"Good\":\n",
    "        selected_directory=good_folder\n",
    "    elif directory == \"Edge\":\n",
    "        selected_directory=edge_folder\n",
    "    else:\n",
    "        selected_directory=\"\"\n",
    "    return selected_directory\n",
    "\n",
    "# Function getter for images_path\n",
    "def get_images_path():\n",
    "    global images_path\n",
    "    return images_path\n",
    "# Function setter for images_path\n",
    "def set_images_path(images_path_new):\n",
    "    global images_path\n",
    "    images_path = images_path_new\n",
    "\n",
    "# Function getter for n_pointer\n",
    "def get_n_pointer():\n",
    "    global n_pointer\n",
    "    return n_pointer\n",
    "# Function setter for n_pointer\n",
    "def set_n_pointer(n_pointer_new):\n",
    "    global n_pointer\n",
    "    n_pointer = n_pointer_new\n",
    "\n",
    "# Setting up widgets\n",
    "vbox=widgets.VBox([toggle_buttons, output, buttons])\n",
    "display(vbox)\n",
    "\n",
    "# Handler for next button\n",
    "def move_next(obj):\n",
    "    # Getters\n",
    "    n_pointer = get_n_pointer()\n",
    "    images_path = get_images_path()\n",
    "    # Holding old values for directory path\n",
    "    path_old=images_path[n_pointer]\n",
    "    # Getting directory\n",
    "    selected_directory=get_directory(toggle_buttons.value)\n",
    "\n",
    "    # Increment pointer with wrap around to 0\n",
    "    n_pointer = (n_pointer + 1) %  len(images_path)\n",
    "    # Read new images\n",
    "    image=read_image(images_path[n_pointer])\n",
    "    # Set n_pointer\n",
    "    set_n_pointer(n_pointer)\n",
    "    # Plot new images\n",
    "    if (len(images_path) > 1) or (len(images_path) == 1 and selected_directory==\"\"):\n",
    "        with output:\n",
    "            clear_output(wait=True)\n",
    "            ax=plot_image(image,figsize=figsize,downsampling_factor=downsampling_factor)\n",
    "            display(ax.figure)\n",
    "    else:\n",
    "        clear_output(wait=True)\n",
    "    # Calculating new path\n",
    "    path_new=os.path.join(selected_directory, path_old.split(os.sep)[-1])\n",
    "    # Moving image and removing image from png_path\n",
    "    if selected_directory != \"\":\n",
    "        shutil.move(path_old,path_new)\n",
    "        images_path.remove(path_old)\n",
    "        set_images_path(images_path)\n",
    "        if n_pointer == len(images_path):\n",
    "            set_n_pointer(0)\n",
    "\n",
    "    if len(images_path) == 0:\n",
    "        with output:\n",
    "            print(\"Processing finished\")\n",
    "\n",
    "# Handler for prev button\n",
    "def move_prev(obj):\n",
    "    # Getters\n",
    "    n_pointer = get_n_pointer()\n",
    "    images_path = get_images_path()\n",
    "    # Holding old values for directory path\n",
    "    path_old=images_path[n_pointer]\n",
    "    # Getting directory\n",
    "    selected_directory=get_directory(toggle_buttons.value)\n",
    "\n",
    "    # Decreasing n_pointer with wrap around to n_images - 1\n",
    "    n_pointer = n_pointer - 1\n",
    "    if n_pointer <= 0:\n",
    "        n_pointer =  len(images_path) - 1\n",
    "    # Read new images\n",
    "    image=read_image(images_path[n_pointer])\n",
    "    # Set n_pointer\n",
    "    set_n_pointer(n_pointer)\n",
    "    if (len(images_path) > 1) or (len(images_path) == 1 and selected_directory==\"\"):\n",
    "        # Plot new images\n",
    "        with output:\n",
    "            clear_output(wait=True)\n",
    "            ax=plot_image(image,figsize=figsize,downsampling_factor=downsampling_factor)\n",
    "            display(ax.figure)\n",
    "    else:\n",
    "        clear_output(wait=True)\n",
    "\n",
    "    # Calculating new path\n",
    "    path_new=os.path.join(selected_directory, path_old.split(os.sep)[-1])\n",
    "    # Moving image and removing image from png_path\n",
    "    if selected_directory != \"\":\n",
    "        shutil.move(path_old,path_new)\n",
    "        images_path.remove(path_old)\n",
    "        set_images_path(images_path)\n",
    "        if n_pointer == len(images_path):\n",
    "            set_n_pointer(0)\n",
    "\n",
    "    if len(images_path) == 0:\n",
    "        with output:\n",
    "            print(\"Processing finished\")\n",
    "\n",
    "# Setting handlers\n",
    "next.on_click(move_next)\n",
    "prev.on_click(move_prev)"
   ]
  },
  {
   "cell_type": "code",
   "execution_count": null,
   "id": "ea9dfb93-ee12-4e90-8721-ee0abeecba76",
   "metadata": {},
   "outputs": [],
   "source": []
  }
 ],
 "metadata": {
  "kernelspec": {
   "display_name": "Python 3 (ipykernel)",
   "language": "python",
   "name": "python3"
  },
  "language_info": {
   "codemirror_mode": {
    "name": "ipython",
    "version": 3
   },
   "file_extension": ".py",
   "mimetype": "text/x-python",
   "name": "python",
   "nbconvert_exporter": "python",
   "pygments_lexer": "ipython3",
   "version": "3.11.5"
  }
 },
 "nbformat": 4,
 "nbformat_minor": 5
}
